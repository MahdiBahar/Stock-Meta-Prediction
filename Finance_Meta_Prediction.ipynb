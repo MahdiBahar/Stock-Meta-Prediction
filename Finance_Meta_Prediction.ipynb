{
  "cells": [
    {
      "cell_type": "markdown",
      "metadata": {
        "id": "b98D6ZlskVzv"
      },
      "source": [
        "\n",
        "\n",
        "**Objective:** The primary goal of this project is to extract Forex price data for the EUR/USD currency pair and develop a predictive model to determine whether the next candle (price movement) will be positive or negative.\n",
        "\n",
        "**Expected Outcomes:**\n",
        "A robust model that accurately predicts the direction of the next candle for EUR/USD.\n",
        "A comprehensive report detailing the methodology, analysis, and findings."
      ]
    },
    {
      "cell_type": "markdown",
      "metadata": {
        "id": "f75PBX98lh8Z"
      },
      "source": [
        "## Step 1 Data Collection:\n",
        "   In May 2010, the financial markets experienced a sudden and severe crash, known as the \"Flash Crash.\" In just a few minutes, the Dow Jones Industrial Average plunged about 1,000 points only to recover those losses shortly after. This event is a crucial example in the world of trading and data analysis.\n",
        "\n",
        "The Flash Crash highlighted the critical role of data quality and integrity in financial markets. In the chaotic moments of the crash, many automated trading algorithms, including those used in Forex trading, were making decisions based on flawed or aberrant data. This led to a cascade of selling, exacerbating the market's instability.\n",
        "\n",
        " Post-crash analyses revealed that many trading models were not equipped to handle such unusual market conditions. They were trained on historical data that did not include such extreme scenarios. This oversight led to massive failures in predictive models, causing significant financial losses.\n",
        "\n",
        "The Flash Crash served as a wake-up call for financial analysts, traders, and data scientists. It underscored the need for robust data preprocessing and the inclusion of outlier scenarios in model training. It also highlighted the importance of 'stress testing' models against extreme market conditions, something that many Forex predictive models lacked at the time.\n",
        "\n",
        "Following the Flash Crash, there was a renewed emphasis on improving the quality of data used in trading algorithms and on developing more resilient models that could handle market anomalies. This event has since been a case study in the importance of data quality and the need for comprehensive and realistic model training in the Forex market.\n",
        "\n",
        "\n",
        "In the execution of this project, you are granted the flexibility to utilize any relevant data sets at your discretion. However, it is imperative to exercise vigilance regarding potential data leakage and ensure strict adherence to chronological integrity. Under no circumstances should data from future timeframes be employed in the model development process. This caution is critical to maintain the validity and reliability of the predictive outcomes of our models."
      ]
    },
    {
      "cell_type": "markdown",
      "metadata": {
        "id": "9SKbvE4ZEu_w"
      },
      "source": [
        "## Author: Mahdi Bahar Gogani\n",
        "\n",
        "## Date: 20 February 2024"
      ]
    },
    {
      "cell_type": "code",
      "execution_count": 1,
      "metadata": {
        "colab": {
          "base_uri": "https://localhost:8080/"
        },
        "id": "8edq3d4RE1VB",
        "outputId": "8ad687d0-9e9e-438f-b3a7-2686085f281e"
      },
      "outputs": [
        {
          "name": "stdout",
          "output_type": "stream",
          "text": [
            "Drive already mounted at /content/drive; to attempt to forcibly remount, call drive.mount(\"/content/drive\", force_remount=True).\n"
          ]
        }
      ],
      "source": [
        "from google.colab import drive\n",
        "drive.mount('/content/drive')"
      ]
    },
    {
      "cell_type": "markdown",
      "metadata": {
        "id": "D3VQl5_VF5NB"
      },
      "source": [
        "# import libraries"
      ]
    },
    {
      "cell_type": "code",
      "execution_count": 2,
      "metadata": {
        "id": "AgSehU49kUNq"
      },
      "outputs": [],
      "source": [
        "#Basic libraries\n",
        "import numpy as np\n",
        "import pandas as pd\n",
        "import warnings\n",
        "warnings.filterwarnings(\"ignore\")\n",
        "import datetime as dt\n",
        "\n",
        "# for visualization\n",
        "import matplotlib.pyplot as plt\n",
        "from matplotlib.pyplot import figure\n",
        "import seaborn as sns\n",
        "%matplotlib inline\n",
        "\n",
        "#for model training\n",
        "from sklearn.preprocessing import MinMaxScaler\n",
        "from tensorflow.keras.models import Sequential, load_model\n",
        "from tensorflow.keras.layers import LSTM, Dense, Dropout, BatchNormalization\n",
        "from sklearn.metrics import mean_squared_error, r2_score"
      ]
    },
    {
      "cell_type": "markdown",
      "metadata": {
        "id": "AC32-Qo1nPRi"
      },
      "source": [
        "# Read Data"
      ]
    },
    {
      "cell_type": "code",
      "execution_count": 3,
      "metadata": {
        "id": "_4IvhEsGGChp"
      },
      "outputs": [],
      "source": [
        "ds_path = '/content/drive/MyDrive/Colab Notebooks/META.csv'"
      ]
    },
    {
      "cell_type": "code",
      "execution_count": 4,
      "metadata": {
        "colab": {
          "base_uri": "https://localhost:8080/",
          "height": 363
        },
        "id": "H251GGTQGCJY",
        "outputId": "89a9ba97-9525-4de5-fe85-987cd7454083"
      },
      "outputs": [
        {
          "data": {
            "application/vnd.google.colaboratory.intrinsic+json": {
              "repr_error": "'str' object has no attribute 'empty'",
              "type": "dataframe",
              "variable_name": "df_meta"
            },
            "text/html": [
              "\n",
              "  <div id=\"df-fec746b2-908b-46be-b1ba-ac8ec3d9d7e9\" class=\"colab-df-container\">\n",
              "    <div>\n",
              "<style scoped>\n",
              "    .dataframe tbody tr th:only-of-type {\n",
              "        vertical-align: middle;\n",
              "    }\n",
              "\n",
              "    .dataframe tbody tr th {\n",
              "        vertical-align: top;\n",
              "    }\n",
              "\n",
              "    .dataframe thead th {\n",
              "        text-align: right;\n",
              "    }\n",
              "</style>\n",
              "<table border=\"1\" class=\"dataframe\">\n",
              "  <thead>\n",
              "    <tr style=\"text-align: right;\">\n",
              "      <th></th>\n",
              "      <th>Date</th>\n",
              "      <th>Open</th>\n",
              "      <th>High</th>\n",
              "      <th>Low</th>\n",
              "      <th>Close</th>\n",
              "      <th>Adj Close</th>\n",
              "      <th>Volume</th>\n",
              "    </tr>\n",
              "  </thead>\n",
              "  <tbody>\n",
              "    <tr>\n",
              "      <th>0</th>\n",
              "      <td>2012-05-21</td>\n",
              "      <td>36.529999</td>\n",
              "      <td>36.660000</td>\n",
              "      <td>33.000000</td>\n",
              "      <td>34.029999</td>\n",
              "      <td>34.029999</td>\n",
              "      <td>168192700</td>\n",
              "    </tr>\n",
              "    <tr>\n",
              "      <th>1</th>\n",
              "      <td>2012-05-22</td>\n",
              "      <td>32.610001</td>\n",
              "      <td>33.590000</td>\n",
              "      <td>30.940001</td>\n",
              "      <td>31.000000</td>\n",
              "      <td>31.000000</td>\n",
              "      <td>101786600</td>\n",
              "    </tr>\n",
              "    <tr>\n",
              "      <th>2</th>\n",
              "      <td>2012-05-23</td>\n",
              "      <td>31.370001</td>\n",
              "      <td>32.500000</td>\n",
              "      <td>31.360001</td>\n",
              "      <td>32.000000</td>\n",
              "      <td>32.000000</td>\n",
              "      <td>73600000</td>\n",
              "    </tr>\n",
              "    <tr>\n",
              "      <th>3</th>\n",
              "      <td>2012-05-24</td>\n",
              "      <td>32.950001</td>\n",
              "      <td>33.209999</td>\n",
              "      <td>31.770000</td>\n",
              "      <td>33.029999</td>\n",
              "      <td>33.029999</td>\n",
              "      <td>50237200</td>\n",
              "    </tr>\n",
              "    <tr>\n",
              "      <th>4</th>\n",
              "      <td>2012-05-25</td>\n",
              "      <td>32.900002</td>\n",
              "      <td>32.950001</td>\n",
              "      <td>31.110001</td>\n",
              "      <td>31.910000</td>\n",
              "      <td>31.910000</td>\n",
              "      <td>37149800</td>\n",
              "    </tr>\n",
              "    <tr>\n",
              "      <th>5</th>\n",
              "      <td>2012-05-29</td>\n",
              "      <td>31.480000</td>\n",
              "      <td>31.690001</td>\n",
              "      <td>28.650000</td>\n",
              "      <td>28.840000</td>\n",
              "      <td>28.840000</td>\n",
              "      <td>78063400</td>\n",
              "    </tr>\n",
              "    <tr>\n",
              "      <th>6</th>\n",
              "      <td>2012-05-30</td>\n",
              "      <td>28.700001</td>\n",
              "      <td>29.549999</td>\n",
              "      <td>27.860001</td>\n",
              "      <td>28.190001</td>\n",
              "      <td>28.190001</td>\n",
              "      <td>57267900</td>\n",
              "    </tr>\n",
              "    <tr>\n",
              "      <th>7</th>\n",
              "      <td>2012-05-31</td>\n",
              "      <td>28.549999</td>\n",
              "      <td>29.670000</td>\n",
              "      <td>26.830000</td>\n",
              "      <td>29.600000</td>\n",
              "      <td>29.600000</td>\n",
              "      <td>111639200</td>\n",
              "    </tr>\n",
              "    <tr>\n",
              "      <th>8</th>\n",
              "      <td>2012-06-01</td>\n",
              "      <td>28.889999</td>\n",
              "      <td>29.150000</td>\n",
              "      <td>27.389999</td>\n",
              "      <td>27.719999</td>\n",
              "      <td>27.719999</td>\n",
              "      <td>41855500</td>\n",
              "    </tr>\n",
              "    <tr>\n",
              "      <th>9</th>\n",
              "      <td>2012-06-04</td>\n",
              "      <td>27.200001</td>\n",
              "      <td>27.650000</td>\n",
              "      <td>26.440001</td>\n",
              "      <td>26.900000</td>\n",
              "      <td>26.900000</td>\n",
              "      <td>35230300</td>\n",
              "    </tr>\n",
              "  </tbody>\n",
              "</table>\n",
              "</div>\n",
              "    <div class=\"colab-df-buttons\">\n",
              "\n",
              "  <div class=\"colab-df-container\">\n",
              "    <button class=\"colab-df-convert\" onclick=\"convertToInteractive('df-fec746b2-908b-46be-b1ba-ac8ec3d9d7e9')\"\n",
              "            title=\"Convert this dataframe to an interactive table.\"\n",
              "            style=\"display:none;\">\n",
              "\n",
              "  <svg xmlns=\"http://www.w3.org/2000/svg\" height=\"24px\" viewBox=\"0 -960 960 960\">\n",
              "    <path d=\"M120-120v-720h720v720H120Zm60-500h600v-160H180v160Zm220 220h160v-160H400v160Zm0 220h160v-160H400v160ZM180-400h160v-160H180v160Zm440 0h160v-160H620v160ZM180-180h160v-160H180v160Zm440 0h160v-160H620v160Z\"/>\n",
              "  </svg>\n",
              "    </button>\n",
              "\n",
              "  <style>\n",
              "    .colab-df-container {\n",
              "      display:flex;\n",
              "      gap: 12px;\n",
              "    }\n",
              "\n",
              "    .colab-df-convert {\n",
              "      background-color: #E8F0FE;\n",
              "      border: none;\n",
              "      border-radius: 50%;\n",
              "      cursor: pointer;\n",
              "      display: none;\n",
              "      fill: #1967D2;\n",
              "      height: 32px;\n",
              "      padding: 0 0 0 0;\n",
              "      width: 32px;\n",
              "    }\n",
              "\n",
              "    .colab-df-convert:hover {\n",
              "      background-color: #E2EBFA;\n",
              "      box-shadow: 0px 1px 2px rgba(60, 64, 67, 0.3), 0px 1px 3px 1px rgba(60, 64, 67, 0.15);\n",
              "      fill: #174EA6;\n",
              "    }\n",
              "\n",
              "    .colab-df-buttons div {\n",
              "      margin-bottom: 4px;\n",
              "    }\n",
              "\n",
              "    [theme=dark] .colab-df-convert {\n",
              "      background-color: #3B4455;\n",
              "      fill: #D2E3FC;\n",
              "    }\n",
              "\n",
              "    [theme=dark] .colab-df-convert:hover {\n",
              "      background-color: #434B5C;\n",
              "      box-shadow: 0px 1px 3px 1px rgba(0, 0, 0, 0.15);\n",
              "      filter: drop-shadow(0px 1px 2px rgba(0, 0, 0, 0.3));\n",
              "      fill: #FFFFFF;\n",
              "    }\n",
              "  </style>\n",
              "\n",
              "    <script>\n",
              "      const buttonEl =\n",
              "        document.querySelector('#df-fec746b2-908b-46be-b1ba-ac8ec3d9d7e9 button.colab-df-convert');\n",
              "      buttonEl.style.display =\n",
              "        google.colab.kernel.accessAllowed ? 'block' : 'none';\n",
              "\n",
              "      async function convertToInteractive(key) {\n",
              "        const element = document.querySelector('#df-fec746b2-908b-46be-b1ba-ac8ec3d9d7e9');\n",
              "        const dataTable =\n",
              "          await google.colab.kernel.invokeFunction('convertToInteractive',\n",
              "                                                    [key], {});\n",
              "        if (!dataTable) return;\n",
              "\n",
              "        const docLinkHtml = 'Like what you see? Visit the ' +\n",
              "          '<a target=\"_blank\" href=https://colab.research.google.com/notebooks/data_table.ipynb>data table notebook</a>'\n",
              "          + ' to learn more about interactive tables.';\n",
              "        element.innerHTML = '';\n",
              "        dataTable['output_type'] = 'display_data';\n",
              "        await google.colab.output.renderOutput(dataTable, element);\n",
              "        const docLink = document.createElement('div');\n",
              "        docLink.innerHTML = docLinkHtml;\n",
              "        element.appendChild(docLink);\n",
              "      }\n",
              "    </script>\n",
              "  </div>\n",
              "\n",
              "\n",
              "<div id=\"df-b6bed816-9548-438f-8fc3-d6b366ac4151\">\n",
              "  <button class=\"colab-df-quickchart\" onclick=\"quickchart('df-b6bed816-9548-438f-8fc3-d6b366ac4151')\"\n",
              "            title=\"Suggest charts\"\n",
              "            style=\"display:none;\">\n",
              "\n",
              "<svg xmlns=\"http://www.w3.org/2000/svg\" height=\"24px\"viewBox=\"0 0 24 24\"\n",
              "     width=\"24px\">\n",
              "    <g>\n",
              "        <path d=\"M19 3H5c-1.1 0-2 .9-2 2v14c0 1.1.9 2 2 2h14c1.1 0 2-.9 2-2V5c0-1.1-.9-2-2-2zM9 17H7v-7h2v7zm4 0h-2V7h2v10zm4 0h-2v-4h2v4z\"/>\n",
              "    </g>\n",
              "</svg>\n",
              "  </button>\n",
              "\n",
              "<style>\n",
              "  .colab-df-quickchart {\n",
              "      --bg-color: #E8F0FE;\n",
              "      --fill-color: #1967D2;\n",
              "      --hover-bg-color: #E2EBFA;\n",
              "      --hover-fill-color: #174EA6;\n",
              "      --disabled-fill-color: #AAA;\n",
              "      --disabled-bg-color: #DDD;\n",
              "  }\n",
              "\n",
              "  [theme=dark] .colab-df-quickchart {\n",
              "      --bg-color: #3B4455;\n",
              "      --fill-color: #D2E3FC;\n",
              "      --hover-bg-color: #434B5C;\n",
              "      --hover-fill-color: #FFFFFF;\n",
              "      --disabled-bg-color: #3B4455;\n",
              "      --disabled-fill-color: #666;\n",
              "  }\n",
              "\n",
              "  .colab-df-quickchart {\n",
              "    background-color: var(--bg-color);\n",
              "    border: none;\n",
              "    border-radius: 50%;\n",
              "    cursor: pointer;\n",
              "    display: none;\n",
              "    fill: var(--fill-color);\n",
              "    height: 32px;\n",
              "    padding: 0;\n",
              "    width: 32px;\n",
              "  }\n",
              "\n",
              "  .colab-df-quickchart:hover {\n",
              "    background-color: var(--hover-bg-color);\n",
              "    box-shadow: 0 1px 2px rgba(60, 64, 67, 0.3), 0 1px 3px 1px rgba(60, 64, 67, 0.15);\n",
              "    fill: var(--button-hover-fill-color);\n",
              "  }\n",
              "\n",
              "  .colab-df-quickchart-complete:disabled,\n",
              "  .colab-df-quickchart-complete:disabled:hover {\n",
              "    background-color: var(--disabled-bg-color);\n",
              "    fill: var(--disabled-fill-color);\n",
              "    box-shadow: none;\n",
              "  }\n",
              "\n",
              "  .colab-df-spinner {\n",
              "    border: 2px solid var(--fill-color);\n",
              "    border-color: transparent;\n",
              "    border-bottom-color: var(--fill-color);\n",
              "    animation:\n",
              "      spin 1s steps(1) infinite;\n",
              "  }\n",
              "\n",
              "  @keyframes spin {\n",
              "    0% {\n",
              "      border-color: transparent;\n",
              "      border-bottom-color: var(--fill-color);\n",
              "      border-left-color: var(--fill-color);\n",
              "    }\n",
              "    20% {\n",
              "      border-color: transparent;\n",
              "      border-left-color: var(--fill-color);\n",
              "      border-top-color: var(--fill-color);\n",
              "    }\n",
              "    30% {\n",
              "      border-color: transparent;\n",
              "      border-left-color: var(--fill-color);\n",
              "      border-top-color: var(--fill-color);\n",
              "      border-right-color: var(--fill-color);\n",
              "    }\n",
              "    40% {\n",
              "      border-color: transparent;\n",
              "      border-right-color: var(--fill-color);\n",
              "      border-top-color: var(--fill-color);\n",
              "    }\n",
              "    60% {\n",
              "      border-color: transparent;\n",
              "      border-right-color: var(--fill-color);\n",
              "    }\n",
              "    80% {\n",
              "      border-color: transparent;\n",
              "      border-right-color: var(--fill-color);\n",
              "      border-bottom-color: var(--fill-color);\n",
              "    }\n",
              "    90% {\n",
              "      border-color: transparent;\n",
              "      border-bottom-color: var(--fill-color);\n",
              "    }\n",
              "  }\n",
              "</style>\n",
              "\n",
              "  <script>\n",
              "    async function quickchart(key) {\n",
              "      const quickchartButtonEl =\n",
              "        document.querySelector('#' + key + ' button');\n",
              "      quickchartButtonEl.disabled = true;  // To prevent multiple clicks.\n",
              "      quickchartButtonEl.classList.add('colab-df-spinner');\n",
              "      try {\n",
              "        const charts = await google.colab.kernel.invokeFunction(\n",
              "            'suggestCharts', [key], {});\n",
              "      } catch (error) {\n",
              "        console.error('Error during call to suggestCharts:', error);\n",
              "      }\n",
              "      quickchartButtonEl.classList.remove('colab-df-spinner');\n",
              "      quickchartButtonEl.classList.add('colab-df-quickchart-complete');\n",
              "    }\n",
              "    (() => {\n",
              "      let quickchartButtonEl =\n",
              "        document.querySelector('#df-b6bed816-9548-438f-8fc3-d6b366ac4151 button');\n",
              "      quickchartButtonEl.style.display =\n",
              "        google.colab.kernel.accessAllowed ? 'block' : 'none';\n",
              "    })();\n",
              "  </script>\n",
              "</div>\n",
              "    </div>\n",
              "  </div>\n"
            ],
            "text/plain": [
              "         Date       Open       High        Low      Close  Adj Close  \\\n",
              "0  2012-05-21  36.529999  36.660000  33.000000  34.029999  34.029999   \n",
              "1  2012-05-22  32.610001  33.590000  30.940001  31.000000  31.000000   \n",
              "2  2012-05-23  31.370001  32.500000  31.360001  32.000000  32.000000   \n",
              "3  2012-05-24  32.950001  33.209999  31.770000  33.029999  33.029999   \n",
              "4  2012-05-25  32.900002  32.950001  31.110001  31.910000  31.910000   \n",
              "5  2012-05-29  31.480000  31.690001  28.650000  28.840000  28.840000   \n",
              "6  2012-05-30  28.700001  29.549999  27.860001  28.190001  28.190001   \n",
              "7  2012-05-31  28.549999  29.670000  26.830000  29.600000  29.600000   \n",
              "8  2012-06-01  28.889999  29.150000  27.389999  27.719999  27.719999   \n",
              "9  2012-06-04  27.200001  27.650000  26.440001  26.900000  26.900000   \n",
              "\n",
              "      Volume  \n",
              "0  168192700  \n",
              "1  101786600  \n",
              "2   73600000  \n",
              "3   50237200  \n",
              "4   37149800  \n",
              "5   78063400  \n",
              "6   57267900  \n",
              "7  111639200  \n",
              "8   41855500  \n",
              "9   35230300  "
            ]
          },
          "execution_count": 4,
          "metadata": {},
          "output_type": "execute_result"
        }
      ],
      "source": [
        "df_meta = pd.read_csv(ds_path)\n",
        "df_meta.head(10)"
      ]
    },
    {
      "cell_type": "code",
      "execution_count": 5,
      "metadata": {
        "colab": {
          "base_uri": "https://localhost:8080/",
          "height": 293
        },
        "id": "Um9NIMuoIFFX",
        "outputId": "395ca0cf-dd6b-4f59-9fd4-b98130e29632"
      },
      "outputs": [
        {
          "data": {
            "application/vnd.google.colaboratory.intrinsic+json": {
              "repr_error": "'str' object has no attribute 'empty'",
              "type": "dataframe"
            },
            "text/html": [
              "\n",
              "  <div id=\"df-9456b40f-e61b-45fb-8e54-b56042d4808f\" class=\"colab-df-container\">\n",
              "    <div>\n",
              "<style scoped>\n",
              "    .dataframe tbody tr th:only-of-type {\n",
              "        vertical-align: middle;\n",
              "    }\n",
              "\n",
              "    .dataframe tbody tr th {\n",
              "        vertical-align: top;\n",
              "    }\n",
              "\n",
              "    .dataframe thead th {\n",
              "        text-align: right;\n",
              "    }\n",
              "</style>\n",
              "<table border=\"1\" class=\"dataframe\">\n",
              "  <thead>\n",
              "    <tr style=\"text-align: right;\">\n",
              "      <th></th>\n",
              "      <th>Date</th>\n",
              "      <th>Open</th>\n",
              "      <th>High</th>\n",
              "      <th>Low</th>\n",
              "      <th>Close</th>\n",
              "      <th>Adj Close</th>\n",
              "      <th>Volume</th>\n",
              "    </tr>\n",
              "  </thead>\n",
              "  <tbody>\n",
              "    <tr>\n",
              "      <th>2951</th>\n",
              "      <td>2024-02-13</td>\n",
              "      <td>456.869995</td>\n",
              "      <td>467.890015</td>\n",
              "      <td>455.089996</td>\n",
              "      <td>460.119995</td>\n",
              "      <td>460.119995</td>\n",
              "      <td>20916600</td>\n",
              "    </tr>\n",
              "    <tr>\n",
              "      <th>2952</th>\n",
              "      <td>2024-02-14</td>\n",
              "      <td>467.929993</td>\n",
              "      <td>474.109985</td>\n",
              "      <td>466.089996</td>\n",
              "      <td>473.279999</td>\n",
              "      <td>473.279999</td>\n",
              "      <td>16858400</td>\n",
              "    </tr>\n",
              "    <tr>\n",
              "      <th>2953</th>\n",
              "      <td>2024-02-15</td>\n",
              "      <td>475.279999</td>\n",
              "      <td>488.619995</td>\n",
              "      <td>472.220001</td>\n",
              "      <td>484.029999</td>\n",
              "      <td>484.029999</td>\n",
              "      <td>24212300</td>\n",
              "    </tr>\n",
              "    <tr>\n",
              "      <th>2954</th>\n",
              "      <td>2024-02-16</td>\n",
              "      <td>478.109985</td>\n",
              "      <td>478.959991</td>\n",
              "      <td>469.209991</td>\n",
              "      <td>473.320007</td>\n",
              "      <td>473.320007</td>\n",
              "      <td>23306500</td>\n",
              "    </tr>\n",
              "    <tr>\n",
              "      <th>2955</th>\n",
              "      <td>2024-02-20</td>\n",
              "      <td>469.720001</td>\n",
              "      <td>476.179993</td>\n",
              "      <td>466.559998</td>\n",
              "      <td>471.750000</td>\n",
              "      <td>471.750000</td>\n",
              "      <td>17935300</td>\n",
              "    </tr>\n",
              "  </tbody>\n",
              "</table>\n",
              "</div>\n",
              "    <div class=\"colab-df-buttons\">\n",
              "\n",
              "  <div class=\"colab-df-container\">\n",
              "    <button class=\"colab-df-convert\" onclick=\"convertToInteractive('df-9456b40f-e61b-45fb-8e54-b56042d4808f')\"\n",
              "            title=\"Convert this dataframe to an interactive table.\"\n",
              "            style=\"display:none;\">\n",
              "\n",
              "  <svg xmlns=\"http://www.w3.org/2000/svg\" height=\"24px\" viewBox=\"0 -960 960 960\">\n",
              "    <path d=\"M120-120v-720h720v720H120Zm60-500h600v-160H180v160Zm220 220h160v-160H400v160Zm0 220h160v-160H400v160ZM180-400h160v-160H180v160Zm440 0h160v-160H620v160ZM180-180h160v-160H180v160Zm440 0h160v-160H620v160Z\"/>\n",
              "  </svg>\n",
              "    </button>\n",
              "\n",
              "  <style>\n",
              "    .colab-df-container {\n",
              "      display:flex;\n",
              "      gap: 12px;\n",
              "    }\n",
              "\n",
              "    .colab-df-convert {\n",
              "      background-color: #E8F0FE;\n",
              "      border: none;\n",
              "      border-radius: 50%;\n",
              "      cursor: pointer;\n",
              "      display: none;\n",
              "      fill: #1967D2;\n",
              "      height: 32px;\n",
              "      padding: 0 0 0 0;\n",
              "      width: 32px;\n",
              "    }\n",
              "\n",
              "    .colab-df-convert:hover {\n",
              "      background-color: #E2EBFA;\n",
              "      box-shadow: 0px 1px 2px rgba(60, 64, 67, 0.3), 0px 1px 3px 1px rgba(60, 64, 67, 0.15);\n",
              "      fill: #174EA6;\n",
              "    }\n",
              "\n",
              "    .colab-df-buttons div {\n",
              "      margin-bottom: 4px;\n",
              "    }\n",
              "\n",
              "    [theme=dark] .colab-df-convert {\n",
              "      background-color: #3B4455;\n",
              "      fill: #D2E3FC;\n",
              "    }\n",
              "\n",
              "    [theme=dark] .colab-df-convert:hover {\n",
              "      background-color: #434B5C;\n",
              "      box-shadow: 0px 1px 3px 1px rgba(0, 0, 0, 0.15);\n",
              "      filter: drop-shadow(0px 1px 2px rgba(0, 0, 0, 0.3));\n",
              "      fill: #FFFFFF;\n",
              "    }\n",
              "  </style>\n",
              "\n",
              "    <script>\n",
              "      const buttonEl =\n",
              "        document.querySelector('#df-9456b40f-e61b-45fb-8e54-b56042d4808f button.colab-df-convert');\n",
              "      buttonEl.style.display =\n",
              "        google.colab.kernel.accessAllowed ? 'block' : 'none';\n",
              "\n",
              "      async function convertToInteractive(key) {\n",
              "        const element = document.querySelector('#df-9456b40f-e61b-45fb-8e54-b56042d4808f');\n",
              "        const dataTable =\n",
              "          await google.colab.kernel.invokeFunction('convertToInteractive',\n",
              "                                                    [key], {});\n",
              "        if (!dataTable) return;\n",
              "\n",
              "        const docLinkHtml = 'Like what you see? Visit the ' +\n",
              "          '<a target=\"_blank\" href=https://colab.research.google.com/notebooks/data_table.ipynb>data table notebook</a>'\n",
              "          + ' to learn more about interactive tables.';\n",
              "        element.innerHTML = '';\n",
              "        dataTable['output_type'] = 'display_data';\n",
              "        await google.colab.output.renderOutput(dataTable, element);\n",
              "        const docLink = document.createElement('div');\n",
              "        docLink.innerHTML = docLinkHtml;\n",
              "        element.appendChild(docLink);\n",
              "      }\n",
              "    </script>\n",
              "  </div>\n",
              "\n",
              "\n",
              "<div id=\"df-bd0093d6-5119-4082-8810-e2a045ae291b\">\n",
              "  <button class=\"colab-df-quickchart\" onclick=\"quickchart('df-bd0093d6-5119-4082-8810-e2a045ae291b')\"\n",
              "            title=\"Suggest charts\"\n",
              "            style=\"display:none;\">\n",
              "\n",
              "<svg xmlns=\"http://www.w3.org/2000/svg\" height=\"24px\"viewBox=\"0 0 24 24\"\n",
              "     width=\"24px\">\n",
              "    <g>\n",
              "        <path d=\"M19 3H5c-1.1 0-2 .9-2 2v14c0 1.1.9 2 2 2h14c1.1 0 2-.9 2-2V5c0-1.1-.9-2-2-2zM9 17H7v-7h2v7zm4 0h-2V7h2v10zm4 0h-2v-4h2v4z\"/>\n",
              "    </g>\n",
              "</svg>\n",
              "  </button>\n",
              "\n",
              "<style>\n",
              "  .colab-df-quickchart {\n",
              "      --bg-color: #E8F0FE;\n",
              "      --fill-color: #1967D2;\n",
              "      --hover-bg-color: #E2EBFA;\n",
              "      --hover-fill-color: #174EA6;\n",
              "      --disabled-fill-color: #AAA;\n",
              "      --disabled-bg-color: #DDD;\n",
              "  }\n",
              "\n",
              "  [theme=dark] .colab-df-quickchart {\n",
              "      --bg-color: #3B4455;\n",
              "      --fill-color: #D2E3FC;\n",
              "      --hover-bg-color: #434B5C;\n",
              "      --hover-fill-color: #FFFFFF;\n",
              "      --disabled-bg-color: #3B4455;\n",
              "      --disabled-fill-color: #666;\n",
              "  }\n",
              "\n",
              "  .colab-df-quickchart {\n",
              "    background-color: var(--bg-color);\n",
              "    border: none;\n",
              "    border-radius: 50%;\n",
              "    cursor: pointer;\n",
              "    display: none;\n",
              "    fill: var(--fill-color);\n",
              "    height: 32px;\n",
              "    padding: 0;\n",
              "    width: 32px;\n",
              "  }\n",
              "\n",
              "  .colab-df-quickchart:hover {\n",
              "    background-color: var(--hover-bg-color);\n",
              "    box-shadow: 0 1px 2px rgba(60, 64, 67, 0.3), 0 1px 3px 1px rgba(60, 64, 67, 0.15);\n",
              "    fill: var(--button-hover-fill-color);\n",
              "  }\n",
              "\n",
              "  .colab-df-quickchart-complete:disabled,\n",
              "  .colab-df-quickchart-complete:disabled:hover {\n",
              "    background-color: var(--disabled-bg-color);\n",
              "    fill: var(--disabled-fill-color);\n",
              "    box-shadow: none;\n",
              "  }\n",
              "\n",
              "  .colab-df-spinner {\n",
              "    border: 2px solid var(--fill-color);\n",
              "    border-color: transparent;\n",
              "    border-bottom-color: var(--fill-color);\n",
              "    animation:\n",
              "      spin 1s steps(1) infinite;\n",
              "  }\n",
              "\n",
              "  @keyframes spin {\n",
              "    0% {\n",
              "      border-color: transparent;\n",
              "      border-bottom-color: var(--fill-color);\n",
              "      border-left-color: var(--fill-color);\n",
              "    }\n",
              "    20% {\n",
              "      border-color: transparent;\n",
              "      border-left-color: var(--fill-color);\n",
              "      border-top-color: var(--fill-color);\n",
              "    }\n",
              "    30% {\n",
              "      border-color: transparent;\n",
              "      border-left-color: var(--fill-color);\n",
              "      border-top-color: var(--fill-color);\n",
              "      border-right-color: var(--fill-color);\n",
              "    }\n",
              "    40% {\n",
              "      border-color: transparent;\n",
              "      border-right-color: var(--fill-color);\n",
              "      border-top-color: var(--fill-color);\n",
              "    }\n",
              "    60% {\n",
              "      border-color: transparent;\n",
              "      border-right-color: var(--fill-color);\n",
              "    }\n",
              "    80% {\n",
              "      border-color: transparent;\n",
              "      border-right-color: var(--fill-color);\n",
              "      border-bottom-color: var(--fill-color);\n",
              "    }\n",
              "    90% {\n",
              "      border-color: transparent;\n",
              "      border-bottom-color: var(--fill-color);\n",
              "    }\n",
              "  }\n",
              "</style>\n",
              "\n",
              "  <script>\n",
              "    async function quickchart(key) {\n",
              "      const quickchartButtonEl =\n",
              "        document.querySelector('#' + key + ' button');\n",
              "      quickchartButtonEl.disabled = true;  // To prevent multiple clicks.\n",
              "      quickchartButtonEl.classList.add('colab-df-spinner');\n",
              "      try {\n",
              "        const charts = await google.colab.kernel.invokeFunction(\n",
              "            'suggestCharts', [key], {});\n",
              "      } catch (error) {\n",
              "        console.error('Error during call to suggestCharts:', error);\n",
              "      }\n",
              "      quickchartButtonEl.classList.remove('colab-df-spinner');\n",
              "      quickchartButtonEl.classList.add('colab-df-quickchart-complete');\n",
              "    }\n",
              "    (() => {\n",
              "      let quickchartButtonEl =\n",
              "        document.querySelector('#df-bd0093d6-5119-4082-8810-e2a045ae291b button');\n",
              "      quickchartButtonEl.style.display =\n",
              "        google.colab.kernel.accessAllowed ? 'block' : 'none';\n",
              "    })();\n",
              "  </script>\n",
              "</div>\n",
              "    </div>\n",
              "  </div>\n"
            ],
            "text/plain": [
              "            Date        Open        High         Low       Close   Adj Close  \\\n",
              "2951  2024-02-13  456.869995  467.890015  455.089996  460.119995  460.119995   \n",
              "2952  2024-02-14  467.929993  474.109985  466.089996  473.279999  473.279999   \n",
              "2953  2024-02-15  475.279999  488.619995  472.220001  484.029999  484.029999   \n",
              "2954  2024-02-16  478.109985  478.959991  469.209991  473.320007  473.320007   \n",
              "2955  2024-02-20  469.720001  476.179993  466.559998  471.750000  471.750000   \n",
              "\n",
              "        Volume  \n",
              "2951  20916600  \n",
              "2952  16858400  \n",
              "2953  24212300  \n",
              "2954  23306500  \n",
              "2955  17935300  "
            ]
          },
          "execution_count": 5,
          "metadata": {},
          "output_type": "execute_result"
        }
      ],
      "source": [
        "df_meta.tail()"
      ]
    },
    {
      "cell_type": "code",
      "execution_count": 5,
      "metadata": {
        "id": "tp5hlvLmIFAw"
      },
      "outputs": [],
      "source": []
    },
    {
      "cell_type": "markdown",
      "metadata": {
        "id": "MZCumdTJnGlp"
      },
      "source": [
        "## Step 2 Data cleaning and quality checking\n",
        "Given the data acquired thus far, it is essential to ascertain whether there exists a necessity for data cleaning procedures.This assessment is crucial to ensure the integrity and efficacy of our data-driven analysis and subsequent model development."
      ]
    },
    {
      "cell_type": "code",
      "execution_count": 6,
      "metadata": {
        "colab": {
          "base_uri": "https://localhost:8080/"
        },
        "id": "cbVFJcGQn3vI",
        "outputId": "ce9f071a-37ff-4ca1-fa72-e588391b1d90"
      },
      "outputs": [
        {
          "name": "stdout",
          "output_type": "stream",
          "text": [
            "<class 'pandas.core.frame.DataFrame'>\n",
            "RangeIndex: 2956 entries, 0 to 2955\n",
            "Data columns (total 7 columns):\n",
            " #   Column     Non-Null Count  Dtype  \n",
            "---  ------     --------------  -----  \n",
            " 0   Date       2956 non-null   object \n",
            " 1   Open       2956 non-null   float64\n",
            " 2   High       2956 non-null   float64\n",
            " 3   Low        2956 non-null   float64\n",
            " 4   Close      2956 non-null   float64\n",
            " 5   Adj Close  2956 non-null   float64\n",
            " 6   Volume     2956 non-null   int64  \n",
            "dtypes: float64(5), int64(1), object(1)\n",
            "memory usage: 161.8+ KB\n"
          ]
        }
      ],
      "source": [
        "df_meta.info()"
      ]
    },
    {
      "cell_type": "code",
      "execution_count": 7,
      "metadata": {
        "colab": {
          "base_uri": "https://localhost:8080/",
          "height": 320
        },
        "id": "pxkq6kPgNa5Z",
        "outputId": "7380c186-187e-4c89-f7e7-557c429bd784"
      },
      "outputs": [
        {
          "data": {
            "application/vnd.google.colaboratory.intrinsic+json": {
              "summary": "{\n  \"name\": \"df_meta\",\n  \"rows\": 8,\n  \"fields\": [\n    {\n      \"column\": \"Open\",\n      \"properties\": {\n        \"dtype\": \"number\",\n        \"std\": 994.2846435998364,\n        \"min\": 18.08,\n        \"max\": 2956.0,\n        \"num_unique_values\": 8,\n        \"samples\": [\n          160.52387015020295,\n          156.7750015,\n          2956.0\n        ],\n        \"semantic_type\": \"\",\n        \"description\": \"\"\n      }\n    },\n    {\n      \"column\": \"High\",\n      \"properties\": {\n        \"dtype\": \"number\",\n        \"std\": 993.6817176010314,\n        \"min\": 18.27,\n        \"max\": 2956.0,\n        \"num_unique_values\": 8,\n        \"samples\": [\n          162.61767922225982,\n          159.7649995,\n          2956.0\n        ],\n        \"semantic_type\": \"\",\n        \"description\": \"\"\n      }\n    },\n    {\n      \"column\": \"Low\",\n      \"properties\": {\n        \"dtype\": \"number\",\n        \"std\": 994.8020584278835,\n        \"min\": 17.549999,\n        \"max\": 2956.0,\n        \"num_unique_values\": 8,\n        \"samples\": [\n          158.52206703958052,\n          153.830002,\n          2956.0\n        ],\n        \"semantic_type\": \"\",\n        \"description\": \"\"\n      }\n    },\n    {\n      \"column\": \"Close\",\n      \"properties\": {\n        \"dtype\": \"number\",\n        \"std\": 994.2771137154261,\n        \"min\": 17.73,\n        \"max\": 2956.0,\n        \"num_unique_values\": 8,\n        \"samples\": [\n          160.61414074492558,\n          155.9800035,\n          2956.0\n        ],\n        \"semantic_type\": \"\",\n        \"description\": \"\"\n      }\n    },\n    {\n      \"column\": \"Adj Close\",\n      \"properties\": {\n        \"dtype\": \"number\",\n        \"std\": 994.2771137154261,\n        \"min\": 17.73,\n        \"max\": 2956.0,\n        \"num_unique_values\": 8,\n        \"samples\": [\n          160.61414074492558,\n          155.9800035,\n          2956.0\n        ],\n        \"semantic_type\": \"\",\n        \"description\": \"\"\n      }\n    },\n    {\n      \"column\": \"Volume\",\n      \"properties\": {\n        \"dtype\": \"number\",\n        \"std\": 123000299.40652719,\n        \"min\": 2956.0,\n        \"max\": 365457900.0,\n        \"num_unique_values\": 8,\n        \"samples\": [\n          30308115.62922869,\n          22766550.0,\n          2956.0\n        ],\n        \"semantic_type\": \"\",\n        \"description\": \"\"\n      }\n    }\n  ]\n}",
              "type": "dataframe"
            },
            "text/html": [
              "\n",
              "  <div id=\"df-ce8a7627-c14e-44cc-bf30-325d6f9746f8\" class=\"colab-df-container\">\n",
              "    <div>\n",
              "<style scoped>\n",
              "    .dataframe tbody tr th:only-of-type {\n",
              "        vertical-align: middle;\n",
              "    }\n",
              "\n",
              "    .dataframe tbody tr th {\n",
              "        vertical-align: top;\n",
              "    }\n",
              "\n",
              "    .dataframe thead th {\n",
              "        text-align: right;\n",
              "    }\n",
              "</style>\n",
              "<table border=\"1\" class=\"dataframe\">\n",
              "  <thead>\n",
              "    <tr style=\"text-align: right;\">\n",
              "      <th></th>\n",
              "      <th>Open</th>\n",
              "      <th>High</th>\n",
              "      <th>Low</th>\n",
              "      <th>Close</th>\n",
              "      <th>Adj Close</th>\n",
              "      <th>Volume</th>\n",
              "    </tr>\n",
              "  </thead>\n",
              "  <tbody>\n",
              "    <tr>\n",
              "      <th>count</th>\n",
              "      <td>2956.000000</td>\n",
              "      <td>2956.000000</td>\n",
              "      <td>2956.000000</td>\n",
              "      <td>2956.000000</td>\n",
              "      <td>2956.000000</td>\n",
              "      <td>2.956000e+03</td>\n",
              "    </tr>\n",
              "    <tr>\n",
              "      <th>mean</th>\n",
              "      <td>160.523870</td>\n",
              "      <td>162.617679</td>\n",
              "      <td>158.522067</td>\n",
              "      <td>160.614141</td>\n",
              "      <td>160.614141</td>\n",
              "      <td>3.030812e+07</td>\n",
              "    </tr>\n",
              "    <tr>\n",
              "      <th>std</th>\n",
              "      <td>94.292841</td>\n",
              "      <td>95.533217</td>\n",
              "      <td>93.190039</td>\n",
              "      <td>94.388035</td>\n",
              "      <td>94.388035</td>\n",
              "      <td>2.430417e+07</td>\n",
              "    </tr>\n",
              "    <tr>\n",
              "      <th>min</th>\n",
              "      <td>18.080000</td>\n",
              "      <td>18.270000</td>\n",
              "      <td>17.549999</td>\n",
              "      <td>17.730000</td>\n",
              "      <td>17.730000</td>\n",
              "      <td>5.467500e+06</td>\n",
              "    </tr>\n",
              "    <tr>\n",
              "      <th>25%</th>\n",
              "      <td>81.324998</td>\n",
              "      <td>82.089996</td>\n",
              "      <td>80.700001</td>\n",
              "      <td>81.429998</td>\n",
              "      <td>81.429998</td>\n",
              "      <td>1.631378e+07</td>\n",
              "    </tr>\n",
              "    <tr>\n",
              "      <th>50%</th>\n",
              "      <td>156.775002</td>\n",
              "      <td>159.764999</td>\n",
              "      <td>153.830002</td>\n",
              "      <td>155.980004</td>\n",
              "      <td>155.980004</td>\n",
              "      <td>2.276655e+07</td>\n",
              "    </tr>\n",
              "    <tr>\n",
              "      <th>75%</th>\n",
              "      <td>207.544998</td>\n",
              "      <td>210.800000</td>\n",
              "      <td>205.759995</td>\n",
              "      <td>208.092499</td>\n",
              "      <td>208.092499</td>\n",
              "      <td>3.503545e+07</td>\n",
              "    </tr>\n",
              "    <tr>\n",
              "      <th>max</th>\n",
              "      <td>478.109985</td>\n",
              "      <td>488.619995</td>\n",
              "      <td>472.220001</td>\n",
              "      <td>484.029999</td>\n",
              "      <td>484.029999</td>\n",
              "      <td>3.654579e+08</td>\n",
              "    </tr>\n",
              "  </tbody>\n",
              "</table>\n",
              "</div>\n",
              "    <div class=\"colab-df-buttons\">\n",
              "\n",
              "  <div class=\"colab-df-container\">\n",
              "    <button class=\"colab-df-convert\" onclick=\"convertToInteractive('df-ce8a7627-c14e-44cc-bf30-325d6f9746f8')\"\n",
              "            title=\"Convert this dataframe to an interactive table.\"\n",
              "            style=\"display:none;\">\n",
              "\n",
              "  <svg xmlns=\"http://www.w3.org/2000/svg\" height=\"24px\" viewBox=\"0 -960 960 960\">\n",
              "    <path d=\"M120-120v-720h720v720H120Zm60-500h600v-160H180v160Zm220 220h160v-160H400v160Zm0 220h160v-160H400v160ZM180-400h160v-160H180v160Zm440 0h160v-160H620v160ZM180-180h160v-160H180v160Zm440 0h160v-160H620v160Z\"/>\n",
              "  </svg>\n",
              "    </button>\n",
              "\n",
              "  <style>\n",
              "    .colab-df-container {\n",
              "      display:flex;\n",
              "      gap: 12px;\n",
              "    }\n",
              "\n",
              "    .colab-df-convert {\n",
              "      background-color: #E8F0FE;\n",
              "      border: none;\n",
              "      border-radius: 50%;\n",
              "      cursor: pointer;\n",
              "      display: none;\n",
              "      fill: #1967D2;\n",
              "      height: 32px;\n",
              "      padding: 0 0 0 0;\n",
              "      width: 32px;\n",
              "    }\n",
              "\n",
              "    .colab-df-convert:hover {\n",
              "      background-color: #E2EBFA;\n",
              "      box-shadow: 0px 1px 2px rgba(60, 64, 67, 0.3), 0px 1px 3px 1px rgba(60, 64, 67, 0.15);\n",
              "      fill: #174EA6;\n",
              "    }\n",
              "\n",
              "    .colab-df-buttons div {\n",
              "      margin-bottom: 4px;\n",
              "    }\n",
              "\n",
              "    [theme=dark] .colab-df-convert {\n",
              "      background-color: #3B4455;\n",
              "      fill: #D2E3FC;\n",
              "    }\n",
              "\n",
              "    [theme=dark] .colab-df-convert:hover {\n",
              "      background-color: #434B5C;\n",
              "      box-shadow: 0px 1px 3px 1px rgba(0, 0, 0, 0.15);\n",
              "      filter: drop-shadow(0px 1px 2px rgba(0, 0, 0, 0.3));\n",
              "      fill: #FFFFFF;\n",
              "    }\n",
              "  </style>\n",
              "\n",
              "    <script>\n",
              "      const buttonEl =\n",
              "        document.querySelector('#df-ce8a7627-c14e-44cc-bf30-325d6f9746f8 button.colab-df-convert');\n",
              "      buttonEl.style.display =\n",
              "        google.colab.kernel.accessAllowed ? 'block' : 'none';\n",
              "\n",
              "      async function convertToInteractive(key) {\n",
              "        const element = document.querySelector('#df-ce8a7627-c14e-44cc-bf30-325d6f9746f8');\n",
              "        const dataTable =\n",
              "          await google.colab.kernel.invokeFunction('convertToInteractive',\n",
              "                                                    [key], {});\n",
              "        if (!dataTable) return;\n",
              "\n",
              "        const docLinkHtml = 'Like what you see? Visit the ' +\n",
              "          '<a target=\"_blank\" href=https://colab.research.google.com/notebooks/data_table.ipynb>data table notebook</a>'\n",
              "          + ' to learn more about interactive tables.';\n",
              "        element.innerHTML = '';\n",
              "        dataTable['output_type'] = 'display_data';\n",
              "        await google.colab.output.renderOutput(dataTable, element);\n",
              "        const docLink = document.createElement('div');\n",
              "        docLink.innerHTML = docLinkHtml;\n",
              "        element.appendChild(docLink);\n",
              "      }\n",
              "    </script>\n",
              "  </div>\n",
              "\n",
              "\n",
              "<div id=\"df-1921a70c-46c1-4d84-be16-13d1eb1c826a\">\n",
              "  <button class=\"colab-df-quickchart\" onclick=\"quickchart('df-1921a70c-46c1-4d84-be16-13d1eb1c826a')\"\n",
              "            title=\"Suggest charts\"\n",
              "            style=\"display:none;\">\n",
              "\n",
              "<svg xmlns=\"http://www.w3.org/2000/svg\" height=\"24px\"viewBox=\"0 0 24 24\"\n",
              "     width=\"24px\">\n",
              "    <g>\n",
              "        <path d=\"M19 3H5c-1.1 0-2 .9-2 2v14c0 1.1.9 2 2 2h14c1.1 0 2-.9 2-2V5c0-1.1-.9-2-2-2zM9 17H7v-7h2v7zm4 0h-2V7h2v10zm4 0h-2v-4h2v4z\"/>\n",
              "    </g>\n",
              "</svg>\n",
              "  </button>\n",
              "\n",
              "<style>\n",
              "  .colab-df-quickchart {\n",
              "      --bg-color: #E8F0FE;\n",
              "      --fill-color: #1967D2;\n",
              "      --hover-bg-color: #E2EBFA;\n",
              "      --hover-fill-color: #174EA6;\n",
              "      --disabled-fill-color: #AAA;\n",
              "      --disabled-bg-color: #DDD;\n",
              "  }\n",
              "\n",
              "  [theme=dark] .colab-df-quickchart {\n",
              "      --bg-color: #3B4455;\n",
              "      --fill-color: #D2E3FC;\n",
              "      --hover-bg-color: #434B5C;\n",
              "      --hover-fill-color: #FFFFFF;\n",
              "      --disabled-bg-color: #3B4455;\n",
              "      --disabled-fill-color: #666;\n",
              "  }\n",
              "\n",
              "  .colab-df-quickchart {\n",
              "    background-color: var(--bg-color);\n",
              "    border: none;\n",
              "    border-radius: 50%;\n",
              "    cursor: pointer;\n",
              "    display: none;\n",
              "    fill: var(--fill-color);\n",
              "    height: 32px;\n",
              "    padding: 0;\n",
              "    width: 32px;\n",
              "  }\n",
              "\n",
              "  .colab-df-quickchart:hover {\n",
              "    background-color: var(--hover-bg-color);\n",
              "    box-shadow: 0 1px 2px rgba(60, 64, 67, 0.3), 0 1px 3px 1px rgba(60, 64, 67, 0.15);\n",
              "    fill: var(--button-hover-fill-color);\n",
              "  }\n",
              "\n",
              "  .colab-df-quickchart-complete:disabled,\n",
              "  .colab-df-quickchart-complete:disabled:hover {\n",
              "    background-color: var(--disabled-bg-color);\n",
              "    fill: var(--disabled-fill-color);\n",
              "    box-shadow: none;\n",
              "  }\n",
              "\n",
              "  .colab-df-spinner {\n",
              "    border: 2px solid var(--fill-color);\n",
              "    border-color: transparent;\n",
              "    border-bottom-color: var(--fill-color);\n",
              "    animation:\n",
              "      spin 1s steps(1) infinite;\n",
              "  }\n",
              "\n",
              "  @keyframes spin {\n",
              "    0% {\n",
              "      border-color: transparent;\n",
              "      border-bottom-color: var(--fill-color);\n",
              "      border-left-color: var(--fill-color);\n",
              "    }\n",
              "    20% {\n",
              "      border-color: transparent;\n",
              "      border-left-color: var(--fill-color);\n",
              "      border-top-color: var(--fill-color);\n",
              "    }\n",
              "    30% {\n",
              "      border-color: transparent;\n",
              "      border-left-color: var(--fill-color);\n",
              "      border-top-color: var(--fill-color);\n",
              "      border-right-color: var(--fill-color);\n",
              "    }\n",
              "    40% {\n",
              "      border-color: transparent;\n",
              "      border-right-color: var(--fill-color);\n",
              "      border-top-color: var(--fill-color);\n",
              "    }\n",
              "    60% {\n",
              "      border-color: transparent;\n",
              "      border-right-color: var(--fill-color);\n",
              "    }\n",
              "    80% {\n",
              "      border-color: transparent;\n",
              "      border-right-color: var(--fill-color);\n",
              "      border-bottom-color: var(--fill-color);\n",
              "    }\n",
              "    90% {\n",
              "      border-color: transparent;\n",
              "      border-bottom-color: var(--fill-color);\n",
              "    }\n",
              "  }\n",
              "</style>\n",
              "\n",
              "  <script>\n",
              "    async function quickchart(key) {\n",
              "      const quickchartButtonEl =\n",
              "        document.querySelector('#' + key + ' button');\n",
              "      quickchartButtonEl.disabled = true;  // To prevent multiple clicks.\n",
              "      quickchartButtonEl.classList.add('colab-df-spinner');\n",
              "      try {\n",
              "        const charts = await google.colab.kernel.invokeFunction(\n",
              "            'suggestCharts', [key], {});\n",
              "      } catch (error) {\n",
              "        console.error('Error during call to suggestCharts:', error);\n",
              "      }\n",
              "      quickchartButtonEl.classList.remove('colab-df-spinner');\n",
              "      quickchartButtonEl.classList.add('colab-df-quickchart-complete');\n",
              "    }\n",
              "    (() => {\n",
              "      let quickchartButtonEl =\n",
              "        document.querySelector('#df-1921a70c-46c1-4d84-be16-13d1eb1c826a button');\n",
              "      quickchartButtonEl.style.display =\n",
              "        google.colab.kernel.accessAllowed ? 'block' : 'none';\n",
              "    })();\n",
              "  </script>\n",
              "</div>\n",
              "    </div>\n",
              "  </div>\n"
            ],
            "text/plain": [
              "              Open         High          Low        Close    Adj Close  \\\n",
              "count  2956.000000  2956.000000  2956.000000  2956.000000  2956.000000   \n",
              "mean    160.523870   162.617679   158.522067   160.614141   160.614141   \n",
              "std      94.292841    95.533217    93.190039    94.388035    94.388035   \n",
              "min      18.080000    18.270000    17.549999    17.730000    17.730000   \n",
              "25%      81.324998    82.089996    80.700001    81.429998    81.429998   \n",
              "50%     156.775002   159.764999   153.830002   155.980004   155.980004   \n",
              "75%     207.544998   210.800000   205.759995   208.092499   208.092499   \n",
              "max     478.109985   488.619995   472.220001   484.029999   484.029999   \n",
              "\n",
              "             Volume  \n",
              "count  2.956000e+03  \n",
              "mean   3.030812e+07  \n",
              "std    2.430417e+07  \n",
              "min    5.467500e+06  \n",
              "25%    1.631378e+07  \n",
              "50%    2.276655e+07  \n",
              "75%    3.503545e+07  \n",
              "max    3.654579e+08  "
            ]
          },
          "execution_count": 7,
          "metadata": {},
          "output_type": "execute_result"
        }
      ],
      "source": [
        "df_meta.describe()"
      ]
    },
    {
      "cell_type": "code",
      "execution_count": 8,
      "metadata": {
        "colab": {
          "base_uri": "https://localhost:8080/"
        },
        "id": "FR5qUTuaNa2n",
        "outputId": "1a03e5f9-1845-417e-edaa-f09d02bbe5be"
      },
      "outputs": [
        {
          "data": {
            "text/plain": [
              "(2956, 7)"
            ]
          },
          "execution_count": 8,
          "metadata": {},
          "output_type": "execute_result"
        }
      ],
      "source": [
        "df_meta.shape"
      ]
    },
    {
      "cell_type": "code",
      "execution_count": 9,
      "metadata": {
        "colab": {
          "base_uri": "https://localhost:8080/"
        },
        "id": "K8rxV-fY4DRI",
        "outputId": "6aff0823-dc3d-49f7-8a2a-d4484cf06c2f"
      },
      "outputs": [
        {
          "data": {
            "text/plain": [
              "Volume      -0.404808\n",
              "Open         0.999462\n",
              "High         0.999747\n",
              "Low          0.999760\n",
              "Close        1.000000\n",
              "Adj Close    1.000000\n",
              "Name: Close, dtype: float64"
            ]
          },
          "execution_count": 9,
          "metadata": {},
          "output_type": "execute_result"
        }
      ],
      "source": [
        "# find the most correlation between closing price and the other variables\n",
        "df_meta.corr()['Close'].sort_values()"
      ]
    },
    {
      "cell_type": "markdown",
      "metadata": {
        "id": "IDuqutsQcOgy"
      },
      "source": [
        "## Check null values in dataset"
      ]
    },
    {
      "cell_type": "code",
      "execution_count": 10,
      "metadata": {
        "colab": {
          "base_uri": "https://localhost:8080/"
        },
        "id": "N8JCBb6zTvgu",
        "outputId": "79fa31f3-45d1-4748-a4d3-f4eca2e2a328"
      },
      "outputs": [
        {
          "name": "stdout",
          "output_type": "stream",
          "text": [
            "We have 0 missing data\n"
          ]
        }
      ],
      "source": [
        "num_miss=df_meta.isnull().sum().sum()\n",
        "print(f'We have {num_miss} missing data')"
      ]
    },
    {
      "cell_type": "markdown",
      "metadata": {
        "id": "9NhG4jUhlO_r"
      },
      "source": [
        "If we have any missing data, we can consider 4 solutions:\n",
        "\n",
        "1: dropping rows \\\n",
        "2: Filling the missing values in rows with reasonable values\\\n",
        "3: Remove the Columns with more than 80% missing values\\\n",
        "4:Imputation of Missing Data"
      ]
    },
    {
      "cell_type": "markdown",
      "metadata": {
        "id": "WC1ErQQJsTKr"
      },
      "source": [
        "# Preprocessing"
      ]
    },
    {
      "cell_type": "code",
      "execution_count": 11,
      "metadata": {
        "id": "mvB8VN6zsWIb"
      },
      "outputs": [],
      "source": [
        "\n",
        "# Convert 'Date' column to datetime\n",
        "df_meta['Date'] = pd.to_datetime(df_meta['Date'])\n",
        "\n",
        "df_meta['Month']= df_meta['Date'].dt.month\n",
        "df_meta['Year']= df_meta['Date'].dt.year"
      ]
    },
    {
      "cell_type": "markdown",
      "metadata": {
        "id": "vL2TItp1jhwb"
      },
      "source": [
        "# Dealing with outliers"
      ]
    },
    {
      "cell_type": "code",
      "execution_count": 12,
      "metadata": {
        "colab": {
          "base_uri": "https://localhost:8080/",
          "height": 422
        },
        "id": "9ZgH6PhPjDGm",
        "outputId": "86553aa5-582f-4f9b-e834-2602f0234931"
      },
      "outputs": [
        {
          "data": {
            "image/png": "[encoded data removed]",
            "text/plain": [
              "<Figure size 1400x800 with 1 Axes>"
            ]
          },
          "metadata": {},
          "output_type": "display_data"
        }
      ],
      "source": [
        "# Create box plots to visualize the monthly variation\n",
        "plt.figure(figsize=(14, 8))\n",
        "sns.boxplot(data= df_meta, x=df_meta['Year'], y=df_meta['Close'])\n",
        "plt.title('boxplot of the Closing Price')\n",
        "plt.xlabel('Year')\n",
        "plt.ylabel('Closing Price')\n",
        "plt.show()"
      ]
    },
    {
      "cell_type": "code",
      "execution_count": 13,
      "metadata": {
        "colab": {
          "base_uri": "https://localhost:8080/",
          "height": 423
        },
        "id": "BEPxEsQX3Sat",
        "outputId": "d6faecca-be33-487a-ca72-3a8ed981cfa1"
      },
      "outputs": [
        {
          "data": {
            "image/png": "[encoded data removed]",
            "text/plain": [
              "<Figure size 1400x800 with 1 Axes>"
            ]
          },
          "metadata": {},
          "output_type": "display_data"
        }
      ],
      "source": [
        "# Create box plots to visualize the monthly variation and delete outliers\n",
        "plt.figure(figsize=(14, 8))\n",
        "sns.boxplot(data= df_meta, x=df_meta['Year'], y=df_meta['Volume'])\n",
        "plt.title('boxplot of the Volume')\n",
        "plt.xlabel('Year')\n",
        "plt.ylabel('Volume')\n",
        "plt.show()"
      ]
    },
    {
      "cell_type": "code",
      "execution_count": 14,
      "metadata": {
        "id": "8j1zGfdCjC_2"
      },
      "outputs": [],
      "source": [
        "# Calculate the interquartile range (IQR) for each year\n",
        "iqr_by_year = df_meta.groupby('Year')['Volume'].agg(lambda x: x.quantile(0.75) - x.quantile(0.25))\n",
        "\n",
        "# Identify the outliers for each year\n",
        "def detect_outliers(group):\n",
        "    year = group.name\n",
        "    iqr = iqr_by_year.loc[year]\n",
        "    lower_bound = group['Volume'].quantile(0.25) - 1.5 * iqr\n",
        "    upper_bound = group['Volume'].quantile(0.75) + 1.5 * iqr\n",
        "    return group[(group['Volume'] < lower_bound) | (group['Volume'] > upper_bound)]\n",
        "\n"
      ]
    },
    {
      "cell_type": "code",
      "execution_count": 15,
      "metadata": {
        "id": "1JT8Tbr25bT0"
      },
      "outputs": [],
      "source": [
        "outliers_by_year = df_meta.groupby('Year').apply(detect_outliers)\n",
        "\n",
        "# Remove the outliers\n",
        "outlier_indices = outliers_by_year.index.get_level_values(1)\n",
        "df_meta = df_meta.drop(outlier_indices)"
      ]
    },
    {
      "cell_type": "code",
      "execution_count": 16,
      "metadata": {
        "colab": {
          "base_uri": "https://localhost:8080/",
          "height": 423
        },
        "id": "Lf55Tboy5eVL",
        "outputId": "2696a5e0-f649-4544-d79b-d3bbf576eee6"
      },
      "outputs": [
        {
          "data": {
            "image/png": "[encoded data removed]",
            "text/plain": [
              "<Figure size 1400x800 with 1 Axes>"
            ]
          },
          "metadata": {},
          "output_type": "display_data"
        }
      ],
      "source": [
        "# Create box plots to visualize the monthly variation and delete outliers\n",
        "plt.figure(figsize=(14, 8))\n",
        "sns.boxplot(data= df_meta, x=df_meta['Year'], y=df_meta['Volume'])\n",
        "plt.title('boxplot of the Volume')\n",
        "plt.xlabel('Year')\n",
        "plt.ylabel('Volume')\n",
        "plt.show()"
      ]
    },
    {
      "cell_type": "markdown",
      "metadata": {
        "id": "_EzRBepT6oAV"
      },
      "source": [
        "As you can see, most of the outliers in Volume are removed.\n",
        "So, the perfomance of the model can be improved"
      ]
    },
    {
      "cell_type": "code",
      "execution_count": 17,
      "metadata": {
        "colab": {
          "base_uri": "https://localhost:8080/",
          "height": 617
        },
        "id": "rttNT8p6sWEd",
        "outputId": "a0a3a86d-a63a-4bab-c69d-2c5115e6a867"
      },
      "outputs": [
        {
          "data": {
            "application/vnd.google.colaboratory.intrinsic+json": {
              "summary": "{\n  \"name\": \"df_meta\",\n  \"rows\": 2758,\n  \"fields\": [\n    {\n      \"column\": \"Date\",\n      \"properties\": {\n        \"dtype\": \"date\",\n        \"min\": \"2012-05-22 00:00:00\",\n        \"max\": \"2024-02-20 00:00:00\",\n        \"num_unique_values\": 2758,\n        \"samples\": [\n          \"2013-11-29 00:00:00\",\n          \"2017-11-09 00:00:00\",\n          \"2021-04-30 00:00:00\"\n        ],\n        \"semantic_type\": \"\",\n        \"description\": \"\"\n      }\n    },\n    {\n      \"column\": \"Open\",\n      \"properties\": {\n        \"dtype\": \"number\",\n        \"std\": 94.92195624013377,\n        \"min\": 18.08,\n        \"max\": 478.109985,\n        \"num_unique_values\": 2578,\n        \"samples\": [\n          97.760002,\n          174.710007,\n          107.0\n        ],\n        \"semantic_type\": \"\",\n        \"description\": \"\"\n      }\n    },\n    {\n      \"column\": \"High\",\n      \"properties\": {\n        \"dtype\": \"number\",\n        \"std\": 96.13870234572742,\n        \"min\": 18.27,\n        \"max\": 488.619995,\n        \"num_unique_values\": 2578,\n        \"samples\": [\n          111.940002,\n          176.740005,\n          109.389999\n        ],\n        \"semantic_type\": \"\",\n        \"description\": \"\"\n      }\n    },\n    {\n      \"column\": \"Low\",\n      \"properties\": {\n        \"dtype\": \"number\",\n        \"std\": 93.85625697907881,\n        \"min\": 17.549999,\n        \"max\": 472.220001,\n        \"num_unique_values\": 2584,\n        \"samples\": [\n          331.899994,\n          61.790001,\n          199.050003\n        ],\n        \"semantic_type\": \"\",\n        \"description\": \"\"\n      }\n    },\n    {\n      \"column\": \"Close\",\n      \"properties\": {\n        \"dtype\": \"number\",\n        \"std\": 95.03490321484296,\n        \"min\": 17.73,\n        \"max\": 484.029999,\n        \"num_unique_values\": 2614,\n        \"samples\": [\n          233.270004,\n          128.929993,\n          344.619995\n        ],\n        \"semantic_type\": \"\",\n        \"description\": \"\"\n      }\n    },\n    {\n      \"column\": \"Adj Close\",\n      \"properties\": {\n        \"dtype\": \"number\",\n        \"std\": 95.03490321484296,\n        \"min\": 17.73,\n        \"max\": 484.029999,\n        \"num_unique_values\": 2614,\n        \"samples\": [\n          233.270004,\n          128.929993,\n          344.619995\n        ],\n        \"semantic_type\": \"\",\n        \"description\": \"\"\n      }\n    },\n    {\n      \"column\": \"Volume\",\n      \"properties\": {\n        \"dtype\": \"number\",\n        \"std\": 17666603,\n        \"min\": 5467500,\n        \"max\": 136716100,\n        \"num_unique_values\": 2751,\n        \"samples\": [\n          21207800,\n          14579700,\n          19382000\n        ],\n        \"semantic_type\": \"\",\n        \"description\": \"\"\n      }\n    },\n    {\n      \"column\": \"Month\",\n      \"properties\": {\n        \"dtype\": \"number\",\n        \"std\": 3,\n        \"min\": 1,\n        \"max\": 12,\n        \"num_unique_values\": 12,\n        \"samples\": [\n          3,\n          2,\n          5\n        ],\n        \"semantic_type\": \"\",\n        \"description\": \"\"\n      }\n    },\n    {\n      \"column\": \"Year\",\n      \"properties\": {\n        \"dtype\": \"number\",\n        \"std\": 3,\n        \"min\": 2012,\n        \"max\": 2024,\n        \"num_unique_values\": 13,\n        \"samples\": [\n          2023,\n          2021,\n          2012\n        ],\n        \"semantic_type\": \"\",\n        \"description\": \"\"\n      }\n    }\n  ]\n}",
              "type": "dataframe",
              "variable_name": "df_meta"
            },
            "text/html": [
              "\n",
              "  <div id=\"df-9208586d-a01b-4e7e-a5ba-07d3e384c7b8\" class=\"colab-df-container\">\n",
              "    <div>\n",
              "<style scoped>\n",
              "    .dataframe tbody tr th:only-of-type {\n",
              "        vertical-align: middle;\n",
              "    }\n",
              "\n",
              "    .dataframe tbody tr th {\n",
              "        vertical-align: top;\n",
              "    }\n",
              "\n",
              "    .dataframe thead th {\n",
              "        text-align: right;\n",
              "    }\n",
              "</style>\n",
              "<table border=\"1\" class=\"dataframe\">\n",
              "  <thead>\n",
              "    <tr style=\"text-align: right;\">\n",
              "      <th></th>\n",
              "      <th>Date</th>\n",
              "      <th>Open</th>\n",
              "      <th>High</th>\n",
              "      <th>Low</th>\n",
              "      <th>Close</th>\n",
              "      <th>Adj Close</th>\n",
              "      <th>Volume</th>\n",
              "      <th>Month</th>\n",
              "      <th>Year</th>\n",
              "    </tr>\n",
              "  </thead>\n",
              "  <tbody>\n",
              "    <tr>\n",
              "      <th>1</th>\n",
              "      <td>2012-05-22</td>\n",
              "      <td>32.610001</td>\n",
              "      <td>33.590000</td>\n",
              "      <td>30.940001</td>\n",
              "      <td>31.000000</td>\n",
              "      <td>31.000000</td>\n",
              "      <td>101786600</td>\n",
              "      <td>5</td>\n",
              "      <td>2012</td>\n",
              "    </tr>\n",
              "    <tr>\n",
              "      <th>2</th>\n",
              "      <td>2012-05-23</td>\n",
              "      <td>31.370001</td>\n",
              "      <td>32.500000</td>\n",
              "      <td>31.360001</td>\n",
              "      <td>32.000000</td>\n",
              "      <td>32.000000</td>\n",
              "      <td>73600000</td>\n",
              "      <td>5</td>\n",
              "      <td>2012</td>\n",
              "    </tr>\n",
              "    <tr>\n",
              "      <th>3</th>\n",
              "      <td>2012-05-24</td>\n",
              "      <td>32.950001</td>\n",
              "      <td>33.209999</td>\n",
              "      <td>31.770000</td>\n",
              "      <td>33.029999</td>\n",
              "      <td>33.029999</td>\n",
              "      <td>50237200</td>\n",
              "      <td>5</td>\n",
              "      <td>2012</td>\n",
              "    </tr>\n",
              "    <tr>\n",
              "      <th>4</th>\n",
              "      <td>2012-05-25</td>\n",
              "      <td>32.900002</td>\n",
              "      <td>32.950001</td>\n",
              "      <td>31.110001</td>\n",
              "      <td>31.910000</td>\n",
              "      <td>31.910000</td>\n",
              "      <td>37149800</td>\n",
              "      <td>5</td>\n",
              "      <td>2012</td>\n",
              "    </tr>\n",
              "    <tr>\n",
              "      <th>5</th>\n",
              "      <td>2012-05-29</td>\n",
              "      <td>31.480000</td>\n",
              "      <td>31.690001</td>\n",
              "      <td>28.650000</td>\n",
              "      <td>28.840000</td>\n",
              "      <td>28.840000</td>\n",
              "      <td>78063400</td>\n",
              "      <td>5</td>\n",
              "      <td>2012</td>\n",
              "    </tr>\n",
              "    <tr>\n",
              "      <th>...</th>\n",
              "      <td>...</td>\n",
              "      <td>...</td>\n",
              "      <td>...</td>\n",
              "      <td>...</td>\n",
              "      <td>...</td>\n",
              "      <td>...</td>\n",
              "      <td>...</td>\n",
              "      <td>...</td>\n",
              "      <td>...</td>\n",
              "    </tr>\n",
              "    <tr>\n",
              "      <th>2951</th>\n",
              "      <td>2024-02-13</td>\n",
              "      <td>456.869995</td>\n",
              "      <td>467.890015</td>\n",
              "      <td>455.089996</td>\n",
              "      <td>460.119995</td>\n",
              "      <td>460.119995</td>\n",
              "      <td>20916600</td>\n",
              "      <td>2</td>\n",
              "      <td>2024</td>\n",
              "    </tr>\n",
              "    <tr>\n",
              "      <th>2952</th>\n",
              "      <td>2024-02-14</td>\n",
              "      <td>467.929993</td>\n",
              "      <td>474.109985</td>\n",
              "      <td>466.089996</td>\n",
              "      <td>473.279999</td>\n",
              "      <td>473.279999</td>\n",
              "      <td>16858400</td>\n",
              "      <td>2</td>\n",
              "      <td>2024</td>\n",
              "    </tr>\n",
              "    <tr>\n",
              "      <th>2953</th>\n",
              "      <td>2024-02-15</td>\n",
              "      <td>475.279999</td>\n",
              "      <td>488.619995</td>\n",
              "      <td>472.220001</td>\n",
              "      <td>484.029999</td>\n",
              "      <td>484.029999</td>\n",
              "      <td>24212300</td>\n",
              "      <td>2</td>\n",
              "      <td>2024</td>\n",
              "    </tr>\n",
              "    <tr>\n",
              "      <th>2954</th>\n",
              "      <td>2024-02-16</td>\n",
              "      <td>478.109985</td>\n",
              "      <td>478.959991</td>\n",
              "      <td>469.209991</td>\n",
              "      <td>473.320007</td>\n",
              "      <td>473.320007</td>\n",
              "      <td>23306500</td>\n",
              "      <td>2</td>\n",
              "      <td>2024</td>\n",
              "    </tr>\n",
              "    <tr>\n",
              "      <th>2955</th>\n",
              "      <td>2024-02-20</td>\n",
              "      <td>469.720001</td>\n",
              "      <td>476.179993</td>\n",
              "      <td>466.559998</td>\n",
              "      <td>471.750000</td>\n",
              "      <td>471.750000</td>\n",
              "      <td>17935300</td>\n",
              "      <td>2</td>\n",
              "      <td>2024</td>\n",
              "    </tr>\n",
              "  </tbody>\n",
              "</table>\n",
              "<p>2758 rows × 9 columns</p>\n",
              "</div>\n",
              "    <div class=\"colab-df-buttons\">\n",
              "\n",
              "  <div class=\"colab-df-container\">\n",
              "    <button class=\"colab-df-convert\" onclick=\"convertToInteractive('df-9208586d-a01b-4e7e-a5ba-07d3e384c7b8')\"\n",
              "            title=\"Convert this dataframe to an interactive table.\"\n",
              "            style=\"display:none;\">\n",
              "\n",
              "  <svg xmlns=\"http://www.w3.org/2000/svg\" height=\"24px\" viewBox=\"0 -960 960 960\">\n",
              "    <path d=\"M120-120v-720h720v720H120Zm60-500h600v-160H180v160Zm220 220h160v-160H400v160Zm0 220h160v-160H400v160ZM180-400h160v-160H180v160Zm440 0h160v-160H620v160ZM180-180h160v-160H180v160Zm440 0h160v-160H620v160Z\"/>\n",
              "  </svg>\n",
              "    </button>\n",
              "\n",
              "  <style>\n",
              "    .colab-df-container {\n",
              "      display:flex;\n",
              "      gap: 12px;\n",
              "    }\n",
              "\n",
              "    .colab-df-convert {\n",
              "      background-color: #E8F0FE;\n",
              "      border: none;\n",
              "      border-radius: 50%;\n",
              "      cursor: pointer;\n",
              "      display: none;\n",
              "      fill: #1967D2;\n",
              "      height: 32px;\n",
              "      padding: 0 0 0 0;\n",
              "      width: 32px;\n",
              "    }\n",
              "\n",
              "    .colab-df-convert:hover {\n",
              "      background-color: #E2EBFA;\n",
              "      box-shadow: 0px 1px 2px rgba(60, 64, 67, 0.3), 0px 1px 3px 1px rgba(60, 64, 67, 0.15);\n",
              "      fill: #174EA6;\n",
              "    }\n",
              "\n",
              "    .colab-df-buttons div {\n",
              "      margin-bottom: 4px;\n",
              "    }\n",
              "\n",
              "    [theme=dark] .colab-df-convert {\n",
              "      background-color: #3B4455;\n",
              "      fill: #D2E3FC;\n",
              "    }\n",
              "\n",
              "    [theme=dark] .colab-df-convert:hover {\n",
              "      background-color: #434B5C;\n",
              "      box-shadow: 0px 1px 3px 1px rgba(0, 0, 0, 0.15);\n",
              "      filter: drop-shadow(0px 1px 2px rgba(0, 0, 0, 0.3));\n",
              "      fill: #FFFFFF;\n",
              "    }\n",
              "  </style>\n",
              "\n",
              "    <script>\n",
              "      const buttonEl =\n",
              "        document.querySelector('#df-9208586d-a01b-4e7e-a5ba-07d3e384c7b8 button.colab-df-convert');\n",
              "      buttonEl.style.display =\n",
              "        google.colab.kernel.accessAllowed ? 'block' : 'none';\n",
              "\n",
              "      async function convertToInteractive(key) {\n",
              "        const element = document.querySelector('#df-9208586d-a01b-4e7e-a5ba-07d3e384c7b8');\n",
              "        const dataTable =\n",
              "          await google.colab.kernel.invokeFunction('convertToInteractive',\n",
              "                                                    [key], {});\n",
              "        if (!dataTable) return;\n",
              "\n",
              "        const docLinkHtml = 'Like what you see? Visit the ' +\n",
              "          '<a target=\"_blank\" href=https://colab.research.google.com/notebooks/data_table.ipynb>data table notebook</a>'\n",
              "          + ' to learn more about interactive tables.';\n",
              "        element.innerHTML = '';\n",
              "        dataTable['output_type'] = 'display_data';\n",
              "        await google.colab.output.renderOutput(dataTable, element);\n",
              "        const docLink = document.createElement('div');\n",
              "        docLink.innerHTML = docLinkHtml;\n",
              "        element.appendChild(docLink);\n",
              "      }\n",
              "    </script>\n",
              "  </div>\n",
              "\n",
              "\n",
              "<div id=\"df-c0be2daf-7605-476b-acd6-19f7a989eb28\">\n",
              "  <button class=\"colab-df-quickchart\" onclick=\"quickchart('df-c0be2daf-7605-476b-acd6-19f7a989eb28')\"\n",
              "            title=\"Suggest charts\"\n",
              "            style=\"display:none;\">\n",
              "\n",
              "<svg xmlns=\"http://www.w3.org/2000/svg\" height=\"24px\"viewBox=\"0 0 24 24\"\n",
              "     width=\"24px\">\n",
              "    <g>\n",
              "        <path d=\"M19 3H5c-1.1 0-2 .9-2 2v14c0 1.1.9 2 2 2h14c1.1 0 2-.9 2-2V5c0-1.1-.9-2-2-2zM9 17H7v-7h2v7zm4 0h-2V7h2v10zm4 0h-2v-4h2v4z\"/>\n",
              "    </g>\n",
              "</svg>\n",
              "  </button>\n",
              "\n",
              "<style>\n",
              "  .colab-df-quickchart {\n",
              "      --bg-color: #E8F0FE;\n",
              "      --fill-color: #1967D2;\n",
              "      --hover-bg-color: #E2EBFA;\n",
              "      --hover-fill-color: #174EA6;\n",
              "      --disabled-fill-color: #AAA;\n",
              "      --disabled-bg-color: #DDD;\n",
              "  }\n",
              "\n",
              "  [theme=dark] .colab-df-quickchart {\n",
              "      --bg-color: #3B4455;\n",
              "      --fill-color: #D2E3FC;\n",
              "      --hover-bg-color: #434B5C;\n",
              "      --hover-fill-color: #FFFFFF;\n",
              "      --disabled-bg-color: #3B4455;\n",
              "      --disabled-fill-color: #666;\n",
              "  }\n",
              "\n",
              "  .colab-df-quickchart {\n",
              "    background-color: var(--bg-color);\n",
              "    border: none;\n",
              "    border-radius: 50%;\n",
              "    cursor: pointer;\n",
              "    display: none;\n",
              "    fill: var(--fill-color);\n",
              "    height: 32px;\n",
              "    padding: 0;\n",
              "    width: 32px;\n",
              "  }\n",
              "\n",
              "  .colab-df-quickchart:hover {\n",
              "    background-color: var(--hover-bg-color);\n",
              "    box-shadow: 0 1px 2px rgba(60, 64, 67, 0.3), 0 1px 3px 1px rgba(60, 64, 67, 0.15);\n",
              "    fill: var(--button-hover-fill-color);\n",
              "  }\n",
              "\n",
              "  .colab-df-quickchart-complete:disabled,\n",
              "  .colab-df-quickchart-complete:disabled:hover {\n",
              "    background-color: var(--disabled-bg-color);\n",
              "    fill: var(--disabled-fill-color);\n",
              "    box-shadow: none;\n",
              "  }\n",
              "\n",
              "  .colab-df-spinner {\n",
              "    border: 2px solid var(--fill-color);\n",
              "    border-color: transparent;\n",
              "    border-bottom-color: var(--fill-color);\n",
              "    animation:\n",
              "      spin 1s steps(1) infinite;\n",
              "  }\n",
              "\n",
              "  @keyframes spin {\n",
              "    0% {\n",
              "      border-color: transparent;\n",
              "      border-bottom-color: var(--fill-color);\n",
              "      border-left-color: var(--fill-color);\n",
              "    }\n",
              "    20% {\n",
              "      border-color: transparent;\n",
              "      border-left-color: var(--fill-color);\n",
              "      border-top-color: var(--fill-color);\n",
              "    }\n",
              "    30% {\n",
              "      border-color: transparent;\n",
              "      border-left-color: var(--fill-color);\n",
              "      border-top-color: var(--fill-color);\n",
              "      border-right-color: var(--fill-color);\n",
              "    }\n",
              "    40% {\n",
              "      border-color: transparent;\n",
              "      border-right-color: var(--fill-color);\n",
              "      border-top-color: var(--fill-color);\n",
              "    }\n",
              "    60% {\n",
              "      border-color: transparent;\n",
              "      border-right-color: var(--fill-color);\n",
              "    }\n",
              "    80% {\n",
              "      border-color: transparent;\n",
              "      border-right-color: var(--fill-color);\n",
              "      border-bottom-color: var(--fill-color);\n",
              "    }\n",
              "    90% {\n",
              "      border-color: transparent;\n",
              "      border-bottom-color: var(--fill-color);\n",
              "    }\n",
              "  }\n",
              "</style>\n",
              "\n",
              "  <script>\n",
              "    async function quickchart(key) {\n",
              "      const quickchartButtonEl =\n",
              "        document.querySelector('#' + key + ' button');\n",
              "      quickchartButtonEl.disabled = true;  // To prevent multiple clicks.\n",
              "      quickchartButtonEl.classList.add('colab-df-spinner');\n",
              "      try {\n",
              "        const charts = await google.colab.kernel.invokeFunction(\n",
              "            'suggestCharts', [key], {});\n",
              "      } catch (error) {\n",
              "        console.error('Error during call to suggestCharts:', error);\n",
              "      }\n",
              "      quickchartButtonEl.classList.remove('colab-df-spinner');\n",
              "      quickchartButtonEl.classList.add('colab-df-quickchart-complete');\n",
              "    }\n",
              "    (() => {\n",
              "      let quickchartButtonEl =\n",
              "        document.querySelector('#df-c0be2daf-7605-476b-acd6-19f7a989eb28 button');\n",
              "      quickchartButtonEl.style.display =\n",
              "        google.colab.kernel.accessAllowed ? 'block' : 'none';\n",
              "    })();\n",
              "  </script>\n",
              "</div>\n",
              "    </div>\n",
              "  </div>\n"
            ],
            "text/plain": [
              "           Date        Open        High         Low       Close   Adj Close  \\\n",
              "1    2012-05-22   32.610001   33.590000   30.940001   31.000000   31.000000   \n",
              "2    2012-05-23   31.370001   32.500000   31.360001   32.000000   32.000000   \n",
              "3    2012-05-24   32.950001   33.209999   31.770000   33.029999   33.029999   \n",
              "4    2012-05-25   32.900002   32.950001   31.110001   31.910000   31.910000   \n",
              "5    2012-05-29   31.480000   31.690001   28.650000   28.840000   28.840000   \n",
              "...         ...         ...         ...         ...         ...         ...   \n",
              "2951 2024-02-13  456.869995  467.890015  455.089996  460.119995  460.119995   \n",
              "2952 2024-02-14  467.929993  474.109985  466.089996  473.279999  473.279999   \n",
              "2953 2024-02-15  475.279999  488.619995  472.220001  484.029999  484.029999   \n",
              "2954 2024-02-16  478.109985  478.959991  469.209991  473.320007  473.320007   \n",
              "2955 2024-02-20  469.720001  476.179993  466.559998  471.750000  471.750000   \n",
              "\n",
              "         Volume  Month  Year  \n",
              "1     101786600      5  2012  \n",
              "2      73600000      5  2012  \n",
              "3      50237200      5  2012  \n",
              "4      37149800      5  2012  \n",
              "5      78063400      5  2012  \n",
              "...         ...    ...   ...  \n",
              "2951   20916600      2  2024  \n",
              "2952   16858400      2  2024  \n",
              "2953   24212300      2  2024  \n",
              "2954   23306500      2  2024  \n",
              "2955   17935300      2  2024  \n",
              "\n",
              "[2758 rows x 9 columns]"
            ]
          },
          "execution_count": 17,
          "metadata": {},
          "output_type": "execute_result"
        }
      ],
      "source": [
        "df_meta"
      ]
    },
    {
      "cell_type": "markdown",
      "metadata": {
        "id": "p3ennX13i6XT"
      },
      "source": [
        "# Visualization"
      ]
    },
    {
      "cell_type": "code",
      "execution_count": 18,
      "metadata": {
        "colab": {
          "base_uri": "https://localhost:8080/",
          "height": 734
        },
        "id": "RuEbMyJn3hBK",
        "outputId": "a8d7a908-ecb0-4c8a-85c3-1bfe40594698"
      },
      "outputs": [
        {
          "data": {
            "text/plain": [
              "<Axes: >"
            ]
          },
          "execution_count": 18,
          "metadata": {},
          "output_type": "execute_result"
        },
        {
          "data": {
            "image/png": "[encoded data removed]",
            "text/plain": [
              "<Figure size 1000x1000 with 2 Axes>"
            ]
          },
          "metadata": {},
          "output_type": "display_data"
        }
      ],
      "source": [
        "#using heatmap to show correlation\n",
        "mask = np.triu(np.ones_like(df_meta.corr()))\n",
        "fig= plt.figure(figsize=(10,10))\n",
        "sns.heatmap(data=df_meta.corr(),cmap=\"YlGnBu\", annot=True, mask=mask)"
      ]
    },
    {
      "cell_type": "markdown",
      "metadata": {
        "id": "ua2nZXvfL-xi"
      },
      "source": [
        "It is obvious that Closing Price has strongly correlation with Open, High, Low and year."
      ]
    },
    {
      "cell_type": "code",
      "execution_count": 19,
      "metadata": {
        "colab": {
          "base_uri": "https://localhost:8080/",
          "height": 324
        },
        "id": "tUgRIcV7pRID",
        "outputId": "671ad24f-b709-4d5c-f885-c6c576535e28"
      },
      "outputs": [
        {
          "data": {
            "image/png": "[encoded data removed]",
            "text/plain": [
              "<Figure size 1500x600 with 1 Axes>"
            ]
          },
          "metadata": {},
          "output_type": "display_data"
        }
      ],
      "source": [
        "# Line Chart of closes Over Time\n",
        "\n",
        "plt.figure(figsize=(15, 6))\n",
        "plt.plot(df_meta['Date'], df_meta['Close'], marker='.')\n",
        "plt.title('closes Over Time')\n",
        "plt.xlabel('Date')\n",
        "plt.ylabel('close')\n",
        "plt.xticks(rotation=45)\n",
        "plt.grid(True)\n",
        "plt.show()"
      ]
    },
    {
      "cell_type": "code",
      "execution_count": 20,
      "metadata": {
        "colab": {
          "base_uri": "https://localhost:8080/",
          "height": 324
        },
        "id": "4jsKBz8wNayQ",
        "outputId": "e39a5991-89a6-4b4c-9a0d-161730373d5d"
      },
      "outputs": [
        {
          "data": {
            "image/png": "[encoded data removed]",
            "text/plain": [
              "<Figure size 1500x600 with 1 Axes>"
            ]
          },
          "metadata": {},
          "output_type": "display_data"
        }
      ],
      "source": [
        "# closing prices and Moving Average plot\n",
        "\n",
        "window = 30\n",
        "plt.figure(figsize=(15, 6))\n",
        "plt.plot(df_meta['Date'], df_meta['Close'], label='Close', linewidth=2)\n",
        "plt.plot(df_meta['Date'], df_meta['Close'].rolling(window=window).mean(), label=f'{window}-Day Moving Avg', linestyle='--')\n",
        "plt.title(f'closing prices and {window}-Day Moving Average')\n",
        "plt.xlabel('Date')\n",
        "plt.ylabel('Price')\n",
        "plt.xticks(rotation=45)\n",
        "plt.legend()\n",
        "plt.grid(True)\n",
        "plt.show()"
      ]
    },
    {
      "cell_type": "code",
      "execution_count": 21,
      "metadata": {
        "colab": {
          "base_uri": "https://localhost:8080/",
          "height": 313
        },
        "id": "Ozu7VVNlcmix",
        "outputId": "ea861238-563b-4662-b05d-4dbdc5d118a1"
      },
      "outputs": [
        {
          "data": {
            "image/png": "[encoded data removed]",
            "text/plain": [
              "<Figure size 1500x600 with 1 Axes>"
            ]
          },
          "metadata": {},
          "output_type": "display_data"
        }
      ],
      "source": [
        "# Monthly Seasonality of Closing Prices\n",
        "\n",
        "monthly_average = df_meta.groupby('Month')['Close'].mean()\n",
        "\n",
        "plt.figure(figsize=(15, 6))\n",
        "plt.plot(monthly_average.index, monthly_average.values, marker='o')\n",
        "plt.title(f'Monthly Seasonality')\n",
        "plt.xlabel('Months')\n",
        "plt.ylabel('Average Closing Price')\n",
        "plt.xticks(range(1, 13), ['Jan', 'Feb', 'Mar', 'Apr', 'May', 'Jun', 'Jul', 'Aug', 'Sep', 'Oct', 'Nov', 'Dec'])\n",
        "plt.grid(True)\n",
        "plt.show()"
      ]
    },
    {
      "cell_type": "markdown",
      "metadata": {
        "id": "dj8T_Fifp5CR"
      },
      "source": [
        "## Step 3 Feature Enginnering And Data Labelling\n",
        "\n",
        "Price data, typically including open, high, low, and close prices, along with volume, is fundamental in Forex trading models. However, relying solely on this data might not always suffice for accurate predictions.\n",
        "Forex markets are influenced by a plethora of factors, including economic indicators, geopolitical events, and market sentiment. Therefore, price data alone might not capture the full spectrum of influences affecting market movements.\n",
        "\n",
        "\n",
        " - Technical Indicators: Derive technical indicators like Moving Averages, Relative Strength Index (RSI), Bollinger Bands, and MACD. These indicators can help capture trends, momentum, volatility, and market strength.\n",
        " - Statistical Features: Use statistical measures like rolling mean, standard deviation, and z-scores over different time windows to capture market dynamics.\n",
        " - Time-Based Features: Incorporate features like time of day, day of the week, and proximity to major financial events, as Forex markets can exhibit time-based patterns.\n"
      ]
    },
    {
      "cell_type": "code",
      "execution_count": 22,
      "metadata": {
        "id": "sWoPO9Y2kFeN"
      },
      "outputs": [],
      "source": [
        "# Create some new features\n",
        "\n",
        "df_meta['quarter'] = df_meta['Date'].dt.quarter\n",
        "df_meta['dayofweek'] = df_meta['Date'].dt.dayofweek\n",
        "df_meta['days'] = df_meta['Date'].dt.day\n",
        "df_meta['week'] = df_meta['Date'].dt.strftime('%U')\n",
        "df_meta['week'] = pd.to_numeric(df_meta['week'])"
      ]
    },
    {
      "cell_type": "code",
      "execution_count": 23,
      "metadata": {
        "colab": {
          "base_uri": "https://localhost:8080/"
        },
        "id": "EwqehB_W8SQj",
        "outputId": "df7ac7fd-65e3-4c0d-97b2-1209da636875"
      },
      "outputs": [
        {
          "data": {
            "text/plain": [
              "Index(['Date', 'Open', 'High', 'Low', 'Close', 'Adj Close', 'Volume', 'Month',\n",
              "       'Year', 'quarter', 'dayofweek', 'days', 'week'],\n",
              "      dtype='object')"
            ]
          },
          "execution_count": 23,
          "metadata": {},
          "output_type": "execute_result"
        }
      ],
      "source": [
        "df_meta.columns"
      ]
    },
    {
      "cell_type": "code",
      "execution_count": 24,
      "metadata": {
        "colab": {
          "base_uri": "https://localhost:8080/"
        },
        "id": "nRL-zhs08fGO",
        "outputId": "e4803235-031a-42ab-d759-a296f6851fe9"
      },
      "outputs": [
        {
          "name": "stdout",
          "output_type": "stream",
          "text": [
            "<class 'pandas.core.frame.DataFrame'>\n",
            "Int64Index: 2758 entries, 1 to 2955\n",
            "Data columns (total 13 columns):\n",
            " #   Column     Non-Null Count  Dtype         \n",
            "---  ------     --------------  -----         \n",
            " 0   Date       2758 non-null   datetime64[ns]\n",
            " 1   Open       2758 non-null   float64       \n",
            " 2   High       2758 non-null   float64       \n",
            " 3   Low        2758 non-null   float64       \n",
            " 4   Close      2758 non-null   float64       \n",
            " 5   Adj Close  2758 non-null   float64       \n",
            " 6   Volume     2758 non-null   int64         \n",
            " 7   Month      2758 non-null   int64         \n",
            " 8   Year       2758 non-null   int64         \n",
            " 9   quarter    2758 non-null   int64         \n",
            " 10  dayofweek  2758 non-null   int64         \n",
            " 11  days       2758 non-null   int64         \n",
            " 12  week       2758 non-null   int64         \n",
            "dtypes: datetime64[ns](1), float64(5), int64(7)\n",
            "memory usage: 301.7 KB\n"
          ]
        }
      ],
      "source": [
        "df_meta.info()"
      ]
    },
    {
      "cell_type": "markdown",
      "metadata": {
        "id": "Pg6iNWq3n_zg"
      },
      "source": [
        "## Step 3 Train Test Split\n",
        "\n",
        "In the context of our project's methodology, the concept of 'train-test split' is a critical procedure in the development of predictive models. This process involves dividing the collected data into two distinct sets: the training set and the test set.\n",
        "\n",
        "**Training Set:** This subset of data is utilized for the initial development and training of the model. It is through this dataset that the model learns the underlying patterns and relationships, essentially 'training' the algorithm to understand and interpret the data. The size of the training set typically ranges from 60% to 80% of the total dataset, depending on the specific requirements and complexity of the model.\n",
        "\n",
        "**Test Set:** The remaining portion of the data, which is not used in the training phase, constitutes the test set. This set is crucial for evaluating the performance and generalizability of the model. It serves as a new, unseen dataset for the model, allowing us to assess how well the model can apply its learned patterns to new data. The test set typically comprises 20% to 40% of the total dataset.\n",
        "\n",
        "**Objective of Train-Test Split:** The primary objective of this split is to prevent overfitting, where a model performs exceptionally well on training data but poorly on new, unseen data. By evaluating the model on the test set, we can gauge its ability to generalize to new data, which is a crucial indicator of its practical applicability.\n",
        "\n",
        "**Chronological Consideration:** In time-series data, such as Forex market data, it is vital that this split respects the chronological order of the data. This means that the training set consists of earlier data, while the test set comprises the most recent data. Such an approach ensures that the model is not inadvertently exposed to future data during training, maintaining the integrity and relevance of our predictive analysis.\n"
      ]
    },
    {
      "cell_type": "markdown",
      "metadata": {
        "id": "uIJelD1H1iOt"
      },
      "source": [
        "# getting the closing price in order to predict"
      ]
    },
    {
      "cell_type": "code",
      "execution_count": 25,
      "metadata": {
        "id": "YA4TY7Q9oh1c"
      },
      "outputs": [],
      "source": [
        "meta_close = df_meta.reset_index()['Close']"
      ]
    },
    {
      "cell_type": "code",
      "execution_count": 26,
      "metadata": {
        "colab": {
          "base_uri": "https://localhost:8080/"
        },
        "id": "T4EcYSCX1a3e",
        "outputId": "46609aab-e2fa-43bd-c4e3-4e81bdf28963"
      },
      "outputs": [
        {
          "data": {
            "text/plain": [
              "(2758,)"
            ]
          },
          "execution_count": 26,
          "metadata": {},
          "output_type": "execute_result"
        }
      ],
      "source": [
        "meta_close.shape"
      ]
    },
    {
      "cell_type": "markdown",
      "metadata": {
        "id": "zYcXi-iO1t-V"
      },
      "source": [
        "# Normalization"
      ]
    },
    {
      "cell_type": "code",
      "execution_count": 27,
      "metadata": {
        "id": "Fm7RXuEJ1909"
      },
      "outputs": [],
      "source": [
        "# Normalizing our data using MinMaxScaler\n",
        "scaler = MinMaxScaler()\n",
        "scaled_close=scaler.fit_transform(np.array(meta_close).reshape(-1,1))"
      ]
    },
    {
      "cell_type": "code",
      "execution_count": 28,
      "metadata": {
        "colab": {
          "base_uri": "https://localhost:8080/"
        },
        "id": "A0NhMhJt2tvt",
        "outputId": "55b85f4c-a9bf-440c-fd6f-1b6b03d4b2e1"
      },
      "outputs": [
        {
          "data": {
            "text/plain": [
              "array([[0.02845807],\n",
              "       [0.03060262],\n",
              "       [0.03281149],\n",
              "       ...,\n",
              "       [1.        ],\n",
              "       [0.97703197],\n",
              "       [0.97366502]])"
            ]
          },
          "execution_count": 28,
          "metadata": {},
          "output_type": "execute_result"
        }
      ],
      "source": [
        "scaled_close"
      ]
    },
    {
      "cell_type": "markdown",
      "metadata": {
        "id": "d52pci513Rop"
      },
      "source": [
        "# Split test and train data"
      ]
    },
    {
      "cell_type": "code",
      "execution_count": 29,
      "metadata": {
        "id": "NyQPmvb32oCG"
      },
      "outputs": [],
      "source": [
        "# Split into training and testing sets\n",
        "train_size = int(len(scaled_close) * 0.8)  # 80% for training\n",
        "train_data= scaled_close[:train_size]\n",
        "test_data = scaled_close[train_size:]"
      ]
    },
    {
      "cell_type": "code",
      "execution_count": 30,
      "metadata": {
        "id": "tJO1fijb45hd"
      },
      "outputs": [],
      "source": [
        "# Define the sequence length (number of past time steps)\n",
        "n_past = 50\n",
        "\n",
        "# Prepare sequences for LSTM\n",
        "X_train = []\n",
        "y_train = []\n",
        "\n",
        "for i in range(n_past, len(train_data)):\n",
        "    X_train.append(train_data[i - n_past:i, 0])\n",
        "    y_train.append(train_data[i, 0])\n",
        "\n",
        "X_train = np.array(X_train)\n",
        "y_train = np.array(y_train)"
      ]
    },
    {
      "cell_type": "code",
      "execution_count": 31,
      "metadata": {
        "id": "G4yArlCe5zaN"
      },
      "outputs": [],
      "source": [
        "# prepare sequences for the test set\n",
        "X_test = []\n",
        "y_test = []\n",
        "\n",
        "for i in range(n_past, len(test_data)):\n",
        "    X_test.append(test_data[i - n_past:i, 0])\n",
        "    y_test.append(test_data[i, 0])\n",
        "\n",
        "X_test = np.array(X_test)\n",
        "y_test = np.array(y_test)"
      ]
    },
    {
      "cell_type": "code",
      "execution_count": 32,
      "metadata": {
        "colab": {
          "base_uri": "https://localhost:8080/"
        },
        "id": "YNusgRO07F0H",
        "outputId": "09c6cee6-a036-40e5-d373-f551bab8b024"
      },
      "outputs": [
        {
          "name": "stdout",
          "output_type": "stream",
          "text": [
            "Training set size:-\n",
            "(2156, 50)\n",
            "(2156,)\n"
          ]
        },
        {
          "data": {
            "text/plain": [
              "(None, None)"
            ]
          },
          "execution_count": 32,
          "metadata": {},
          "output_type": "execute_result"
        }
      ],
      "source": [
        "print(\"Training set size:-\")\n",
        "print(X_train.shape), print(y_train.shape)"
      ]
    },
    {
      "cell_type": "code",
      "execution_count": 33,
      "metadata": {
        "colab": {
          "base_uri": "https://localhost:8080/"
        },
        "id": "-fbor9HH7Hht",
        "outputId": "228e44bf-f2cb-4bdb-8156-65803334ec6d"
      },
      "outputs": [
        {
          "name": "stdout",
          "output_type": "stream",
          "text": [
            "Testing set size:-\n",
            "(502, 50)\n",
            "(502,)\n"
          ]
        },
        {
          "data": {
            "text/plain": [
              "(None, None)"
            ]
          },
          "execution_count": 33,
          "metadata": {},
          "output_type": "execute_result"
        }
      ],
      "source": [
        "print(\"Testing set size:-\")\n",
        "print(X_test.shape), print(y_test.shape)"
      ]
    },
    {
      "cell_type": "code",
      "execution_count": 34,
      "metadata": {
        "id": "n6Igd-iv7V5P"
      },
      "outputs": [],
      "source": [
        "# Reshape input data for LSTM\n",
        "X_train = X_train.reshape(X_train.shape[0], X_train.shape[1], 1)\n",
        "X_test = X_test.reshape(X_test.shape[0], X_test.shape[1], 1)"
      ]
    },
    {
      "cell_type": "code",
      "execution_count": 35,
      "metadata": {
        "colab": {
          "base_uri": "https://localhost:8080/"
        },
        "id": "N0wXsuTM7vCt",
        "outputId": "f4f67f87-5bcc-4607-cfde-d1964b754c21"
      },
      "outputs": [
        {
          "data": {
            "text/plain": [
              "((2156, 50, 1), (502, 50, 1))"
            ]
          },
          "execution_count": 35,
          "metadata": {},
          "output_type": "execute_result"
        }
      ],
      "source": [
        "X_train.shape , X_test.shape"
      ]
    }
  ],
  "metadata": {
    "accelerator": "GPU",
    "colab": {
      "gpuType": "T4",
      "provenance": []
    },
    "kernelspec": {
      "display_name": "Python 3",
      "name": "python3"
    },
    "language_info": {
      "name": "python"
    }
  },
  "nbformat": 4,
  "nbformat_minor": 0
}
